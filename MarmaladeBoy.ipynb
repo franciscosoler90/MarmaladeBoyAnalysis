{
 "cells": [
  {
   "cell_type": "code",
   "execution_count": 1,
   "id": "8f9b9dbd",
   "metadata": {},
   "outputs": [
    {
     "data": {
      "text/html": [
       "        <script type=\"text/javascript\">\n",
       "        window.PlotlyConfig = {MathJaxConfig: 'local'};\n",
       "        if (window.MathJax) {MathJax.Hub.Config({SVG: {font: \"STIX-Web\"}});}\n",
       "        if (typeof require !== 'undefined') {\n",
       "        require.undef(\"plotly\");\n",
       "        requirejs.config({\n",
       "            paths: {\n",
       "                'plotly': ['https://cdn.plot.ly/plotly-2.9.0.min']\n",
       "            }\n",
       "        });\n",
       "        require(['plotly'], function(Plotly) {\n",
       "            window._Plotly = Plotly;\n",
       "        });\n",
       "        }\n",
       "        </script>\n",
       "        "
      ]
     },
     "metadata": {},
     "output_type": "display_data"
    }
   ],
   "source": [
    "import numpy as np\n",
    "import pandas as pd\n",
    "import matplotlib.pyplot as plt\n",
    "from PIL import Image\n",
    "from plotly.offline import init_notebook_mode,iplot\n",
    "init_notebook_mode(connected=True)\n",
    "import plotly.graph_objs as go\n",
    "from plotly.subplots import make_subplots\n",
    "import os\n",
    "\n",
    "import seaborn as sns"
   ]
  },
  {
   "cell_type": "code",
   "execution_count": 2,
   "id": "dd22b658",
   "metadata": {},
   "outputs": [],
   "source": [
    "df = pd.read_csv(r\"C:\\Users\\frans\\Downloads\\MarmaladeBoy_Script.csv\", names=[\"index\",\"episode\",\"scene\",\"character\",\"dialogue\"], header=None)"
   ]
  },
  {
   "cell_type": "code",
   "execution_count": 3,
   "id": "6bd2cc68",
   "metadata": {},
   "outputs": [],
   "source": [
    "df.drop(0,inplace=True)"
   ]
  },
  {
   "cell_type": "code",
   "execution_count": 4,
   "id": "5fdddca5",
   "metadata": {},
   "outputs": [],
   "source": [
    "df2 = pd.DataFrame(df.character.value_counts()).iloc[:20]"
   ]
  },
  {
   "cell_type": "code",
   "execution_count": 5,
   "id": "8ac5c5b5",
   "metadata": {},
   "outputs": [
    {
     "data": {
      "text/html": [
       "<div>\n",
       "<style scoped>\n",
       "    .dataframe tbody tr th:only-of-type {\n",
       "        vertical-align: middle;\n",
       "    }\n",
       "\n",
       "    .dataframe tbody tr th {\n",
       "        vertical-align: top;\n",
       "    }\n",
       "\n",
       "    .dataframe thead th {\n",
       "        text-align: right;\n",
       "    }\n",
       "</style>\n",
       "<table border=\"1\" class=\"dataframe\">\n",
       "  <thead>\n",
       "    <tr style=\"text-align: right;\">\n",
       "      <th></th>\n",
       "      <th>character</th>\n",
       "    </tr>\n",
       "  </thead>\n",
       "  <tbody>\n",
       "    <tr>\n",
       "      <th>Miki Koishikawa</th>\n",
       "      <td>831</td>\n",
       "    </tr>\n",
       "    <tr>\n",
       "      <th>Yuu Matsuura</th>\n",
       "      <td>452</td>\n",
       "    </tr>\n",
       "    <tr>\n",
       "      <th>Ginta Suou</th>\n",
       "      <td>225</td>\n",
       "    </tr>\n",
       "    <tr>\n",
       "      <th>Meiko Akizuki</th>\n",
       "      <td>147</td>\n",
       "    </tr>\n",
       "    <tr>\n",
       "      <th>Arimi Suzuki</th>\n",
       "      <td>147</td>\n",
       "    </tr>\n",
       "    <tr>\n",
       "      <th>Tsutomu Rokutanda</th>\n",
       "      <td>98</td>\n",
       "    </tr>\n",
       "    <tr>\n",
       "      <th>Jin Koishikawa</th>\n",
       "      <td>59</td>\n",
       "    </tr>\n",
       "    <tr>\n",
       "      <th>Takuji Kijima</th>\n",
       "      <td>54</td>\n",
       "    </tr>\n",
       "    <tr>\n",
       "      <th>Chiyako Koishikawa</th>\n",
       "      <td>51</td>\n",
       "    </tr>\n",
       "    <tr>\n",
       "      <th>Rumi Matsuura</th>\n",
       "      <td>50</td>\n",
       "    </tr>\n",
       "    <tr>\n",
       "      <th>Namura</th>\n",
       "      <td>34</td>\n",
       "    </tr>\n",
       "    <tr>\n",
       "      <th>Satoshi Miwa</th>\n",
       "      <td>27</td>\n",
       "    </tr>\n",
       "    <tr>\n",
       "      <th>Miki's friend</th>\n",
       "      <td>23</td>\n",
       "    </tr>\n",
       "    <tr>\n",
       "      <th>Youji Matsuura</th>\n",
       "      <td>22</td>\n",
       "    </tr>\n",
       "    <tr>\n",
       "      <th>Ryoko Momoi</th>\n",
       "      <td>15</td>\n",
       "    </tr>\n",
       "    <tr>\n",
       "      <th>Customer</th>\n",
       "      <td>15</td>\n",
       "    </tr>\n",
       "    <tr>\n",
       "      <th>Student</th>\n",
       "      <td>13</td>\n",
       "    </tr>\n",
       "    <tr>\n",
       "      <th>Reporter</th>\n",
       "      <td>12</td>\n",
       "    </tr>\n",
       "    <tr>\n",
       "      <th>Tennis Official</th>\n",
       "      <td>7</td>\n",
       "    </tr>\n",
       "    <tr>\n",
       "      <th>Ginta's friend</th>\n",
       "      <td>6</td>\n",
       "    </tr>\n",
       "  </tbody>\n",
       "</table>\n",
       "</div>"
      ],
      "text/plain": [
       "                    character\n",
       "Miki Koishikawa           831\n",
       "Yuu Matsuura              452\n",
       "Ginta Suou                225\n",
       "Meiko Akizuki             147\n",
       "Arimi Suzuki              147\n",
       "Tsutomu Rokutanda          98\n",
       "Jin Koishikawa             59\n",
       "Takuji Kijima              54\n",
       "Chiyako Koishikawa         51\n",
       "Rumi Matsuura              50\n",
       "Namura                     34\n",
       "Satoshi Miwa               27\n",
       "Miki's friend              23\n",
       "Youji Matsuura             22\n",
       "Ryoko Momoi                15\n",
       "Customer                   15\n",
       "Student                    13\n",
       "Reporter                   12\n",
       "Tennis Official             7\n",
       "Ginta's friend              6"
      ]
     },
     "execution_count": 5,
     "metadata": {},
     "output_type": "execute_result"
    }
   ],
   "source": [
    "df2"
   ]
  },
  {
   "cell_type": "code",
   "execution_count": 6,
   "id": "1206cb3b",
   "metadata": {},
   "outputs": [],
   "source": [
    "trace = go.Bar(y=df2.character, x=df2.index,  marker=dict(color=\"crimson\",line=dict(color='black', width=2)),opacity=0.75)"
   ]
  },
  {
   "cell_type": "code",
   "execution_count": 7,
   "id": "2d4e9384",
   "metadata": {},
   "outputs": [],
   "source": [
    "fig = make_subplots(rows=1, cols=1,horizontal_spacing=1, subplot_titles=(\"Marmalade Boy\"))"
   ]
  },
  {
   "cell_type": "code",
   "execution_count": 8,
   "id": "db8cda22",
   "metadata": {},
   "outputs": [],
   "source": [
    "fig.append_trace(trace, 1, 1)"
   ]
  },
  {
   "cell_type": "code",
   "execution_count": 9,
   "id": "a240ee1b",
   "metadata": {},
   "outputs": [
    {
     "data": {
      "application/vnd.plotly.v1+json": {
       "config": {
        "linkText": "Export to plot.ly",
        "plotlyServerURL": "https://plot.ly",
        "showLink": false
       },
       "data": [
        {
         "marker": {
          "color": "crimson",
          "line": {
           "color": "black",
           "width": 2
          }
         },
         "opacity": 0.75,
         "type": "bar",
         "x": [
          "Miki Koishikawa",
          "Yuu Matsuura",
          "Ginta Suou",
          "Meiko Akizuki",
          "Arimi Suzuki",
          "Tsutomu Rokutanda",
          "Jin Koishikawa",
          "Takuji Kijima",
          "Chiyako Koishikawa",
          "Rumi Matsuura",
          "Namura",
          "Satoshi Miwa",
          "Miki's friend",
          "Youji Matsuura",
          "Ryoko Momoi",
          "Customer",
          "Student",
          "Reporter",
          "Tennis Official",
          "Ginta's friend"
         ],
         "xaxis": "x",
         "y": [
          831,
          452,
          225,
          147,
          147,
          98,
          59,
          54,
          51,
          50,
          34,
          27,
          23,
          22,
          15,
          15,
          13,
          12,
          7,
          6
         ],
         "yaxis": "y"
        }
       ],
       "layout": {
        "annotations": [
         {
          "font": {
           "size": 16
          },
          "showarrow": false,
          "text": "M",
          "x": 0.5,
          "xanchor": "center",
          "xref": "paper",
          "y": 1,
          "yanchor": "bottom",
          "yref": "paper"
         }
        ],
        "height": 800,
        "paper_bgcolor": "rgb(248, 248, 255)",
        "plot_bgcolor": "rgb(248, 248, 255)",
        "showlegend": false,
        "template": {
         "data": {
          "bar": [
           {
            "error_x": {
             "color": "#2a3f5f"
            },
            "error_y": {
             "color": "#2a3f5f"
            },
            "marker": {
             "line": {
              "color": "#E5ECF6",
              "width": 0.5
             },
             "pattern": {
              "fillmode": "overlay",
              "size": 10,
              "solidity": 0.2
             }
            },
            "type": "bar"
           }
          ],
          "barpolar": [
           {
            "marker": {
             "line": {
              "color": "#E5ECF6",
              "width": 0.5
             },
             "pattern": {
              "fillmode": "overlay",
              "size": 10,
              "solidity": 0.2
             }
            },
            "type": "barpolar"
           }
          ],
          "carpet": [
           {
            "aaxis": {
             "endlinecolor": "#2a3f5f",
             "gridcolor": "white",
             "linecolor": "white",
             "minorgridcolor": "white",
             "startlinecolor": "#2a3f5f"
            },
            "baxis": {
             "endlinecolor": "#2a3f5f",
             "gridcolor": "white",
             "linecolor": "white",
             "minorgridcolor": "white",
             "startlinecolor": "#2a3f5f"
            },
            "type": "carpet"
           }
          ],
          "choropleth": [
           {
            "colorbar": {
             "outlinewidth": 0,
             "ticks": ""
            },
            "type": "choropleth"
           }
          ],
          "contour": [
           {
            "colorbar": {
             "outlinewidth": 0,
             "ticks": ""
            },
            "colorscale": [
             [
              0,
              "#0d0887"
             ],
             [
              0.1111111111111111,
              "#46039f"
             ],
             [
              0.2222222222222222,
              "#7201a8"
             ],
             [
              0.3333333333333333,
              "#9c179e"
             ],
             [
              0.4444444444444444,
              "#bd3786"
             ],
             [
              0.5555555555555556,
              "#d8576b"
             ],
             [
              0.6666666666666666,
              "#ed7953"
             ],
             [
              0.7777777777777778,
              "#fb9f3a"
             ],
             [
              0.8888888888888888,
              "#fdca26"
             ],
             [
              1,
              "#f0f921"
             ]
            ],
            "type": "contour"
           }
          ],
          "contourcarpet": [
           {
            "colorbar": {
             "outlinewidth": 0,
             "ticks": ""
            },
            "type": "contourcarpet"
           }
          ],
          "heatmap": [
           {
            "colorbar": {
             "outlinewidth": 0,
             "ticks": ""
            },
            "colorscale": [
             [
              0,
              "#0d0887"
             ],
             [
              0.1111111111111111,
              "#46039f"
             ],
             [
              0.2222222222222222,
              "#7201a8"
             ],
             [
              0.3333333333333333,
              "#9c179e"
             ],
             [
              0.4444444444444444,
              "#bd3786"
             ],
             [
              0.5555555555555556,
              "#d8576b"
             ],
             [
              0.6666666666666666,
              "#ed7953"
             ],
             [
              0.7777777777777778,
              "#fb9f3a"
             ],
             [
              0.8888888888888888,
              "#fdca26"
             ],
             [
              1,
              "#f0f921"
             ]
            ],
            "type": "heatmap"
           }
          ],
          "heatmapgl": [
           {
            "colorbar": {
             "outlinewidth": 0,
             "ticks": ""
            },
            "colorscale": [
             [
              0,
              "#0d0887"
             ],
             [
              0.1111111111111111,
              "#46039f"
             ],
             [
              0.2222222222222222,
              "#7201a8"
             ],
             [
              0.3333333333333333,
              "#9c179e"
             ],
             [
              0.4444444444444444,
              "#bd3786"
             ],
             [
              0.5555555555555556,
              "#d8576b"
             ],
             [
              0.6666666666666666,
              "#ed7953"
             ],
             [
              0.7777777777777778,
              "#fb9f3a"
             ],
             [
              0.8888888888888888,
              "#fdca26"
             ],
             [
              1,
              "#f0f921"
             ]
            ],
            "type": "heatmapgl"
           }
          ],
          "histogram": [
           {
            "marker": {
             "pattern": {
              "fillmode": "overlay",
              "size": 10,
              "solidity": 0.2
             }
            },
            "type": "histogram"
           }
          ],
          "histogram2d": [
           {
            "colorbar": {
             "outlinewidth": 0,
             "ticks": ""
            },
            "colorscale": [
             [
              0,
              "#0d0887"
             ],
             [
              0.1111111111111111,
              "#46039f"
             ],
             [
              0.2222222222222222,
              "#7201a8"
             ],
             [
              0.3333333333333333,
              "#9c179e"
             ],
             [
              0.4444444444444444,
              "#bd3786"
             ],
             [
              0.5555555555555556,
              "#d8576b"
             ],
             [
              0.6666666666666666,
              "#ed7953"
             ],
             [
              0.7777777777777778,
              "#fb9f3a"
             ],
             [
              0.8888888888888888,
              "#fdca26"
             ],
             [
              1,
              "#f0f921"
             ]
            ],
            "type": "histogram2d"
           }
          ],
          "histogram2dcontour": [
           {
            "colorbar": {
             "outlinewidth": 0,
             "ticks": ""
            },
            "colorscale": [
             [
              0,
              "#0d0887"
             ],
             [
              0.1111111111111111,
              "#46039f"
             ],
             [
              0.2222222222222222,
              "#7201a8"
             ],
             [
              0.3333333333333333,
              "#9c179e"
             ],
             [
              0.4444444444444444,
              "#bd3786"
             ],
             [
              0.5555555555555556,
              "#d8576b"
             ],
             [
              0.6666666666666666,
              "#ed7953"
             ],
             [
              0.7777777777777778,
              "#fb9f3a"
             ],
             [
              0.8888888888888888,
              "#fdca26"
             ],
             [
              1,
              "#f0f921"
             ]
            ],
            "type": "histogram2dcontour"
           }
          ],
          "mesh3d": [
           {
            "colorbar": {
             "outlinewidth": 0,
             "ticks": ""
            },
            "type": "mesh3d"
           }
          ],
          "parcoords": [
           {
            "line": {
             "colorbar": {
              "outlinewidth": 0,
              "ticks": ""
             }
            },
            "type": "parcoords"
           }
          ],
          "pie": [
           {
            "automargin": true,
            "type": "pie"
           }
          ],
          "scatter": [
           {
            "marker": {
             "colorbar": {
              "outlinewidth": 0,
              "ticks": ""
             }
            },
            "type": "scatter"
           }
          ],
          "scatter3d": [
           {
            "line": {
             "colorbar": {
              "outlinewidth": 0,
              "ticks": ""
             }
            },
            "marker": {
             "colorbar": {
              "outlinewidth": 0,
              "ticks": ""
             }
            },
            "type": "scatter3d"
           }
          ],
          "scattercarpet": [
           {
            "marker": {
             "colorbar": {
              "outlinewidth": 0,
              "ticks": ""
             }
            },
            "type": "scattercarpet"
           }
          ],
          "scattergeo": [
           {
            "marker": {
             "colorbar": {
              "outlinewidth": 0,
              "ticks": ""
             }
            },
            "type": "scattergeo"
           }
          ],
          "scattergl": [
           {
            "marker": {
             "colorbar": {
              "outlinewidth": 0,
              "ticks": ""
             }
            },
            "type": "scattergl"
           }
          ],
          "scattermapbox": [
           {
            "marker": {
             "colorbar": {
              "outlinewidth": 0,
              "ticks": ""
             }
            },
            "type": "scattermapbox"
           }
          ],
          "scatterpolar": [
           {
            "marker": {
             "colorbar": {
              "outlinewidth": 0,
              "ticks": ""
             }
            },
            "type": "scatterpolar"
           }
          ],
          "scatterpolargl": [
           {
            "marker": {
             "colorbar": {
              "outlinewidth": 0,
              "ticks": ""
             }
            },
            "type": "scatterpolargl"
           }
          ],
          "scatterternary": [
           {
            "marker": {
             "colorbar": {
              "outlinewidth": 0,
              "ticks": ""
             }
            },
            "type": "scatterternary"
           }
          ],
          "surface": [
           {
            "colorbar": {
             "outlinewidth": 0,
             "ticks": ""
            },
            "colorscale": [
             [
              0,
              "#0d0887"
             ],
             [
              0.1111111111111111,
              "#46039f"
             ],
             [
              0.2222222222222222,
              "#7201a8"
             ],
             [
              0.3333333333333333,
              "#9c179e"
             ],
             [
              0.4444444444444444,
              "#bd3786"
             ],
             [
              0.5555555555555556,
              "#d8576b"
             ],
             [
              0.6666666666666666,
              "#ed7953"
             ],
             [
              0.7777777777777778,
              "#fb9f3a"
             ],
             [
              0.8888888888888888,
              "#fdca26"
             ],
             [
              1,
              "#f0f921"
             ]
            ],
            "type": "surface"
           }
          ],
          "table": [
           {
            "cells": {
             "fill": {
              "color": "#EBF0F8"
             },
             "line": {
              "color": "white"
             }
            },
            "header": {
             "fill": {
              "color": "#C8D4E3"
             },
             "line": {
              "color": "white"
             }
            },
            "type": "table"
           }
          ]
         },
         "layout": {
          "annotationdefaults": {
           "arrowcolor": "#2a3f5f",
           "arrowhead": 0,
           "arrowwidth": 1
          },
          "autotypenumbers": "strict",
          "coloraxis": {
           "colorbar": {
            "outlinewidth": 0,
            "ticks": ""
           }
          },
          "colorscale": {
           "diverging": [
            [
             0,
             "#8e0152"
            ],
            [
             0.1,
             "#c51b7d"
            ],
            [
             0.2,
             "#de77ae"
            ],
            [
             0.3,
             "#f1b6da"
            ],
            [
             0.4,
             "#fde0ef"
            ],
            [
             0.5,
             "#f7f7f7"
            ],
            [
             0.6,
             "#e6f5d0"
            ],
            [
             0.7,
             "#b8e186"
            ],
            [
             0.8,
             "#7fbc41"
            ],
            [
             0.9,
             "#4d9221"
            ],
            [
             1,
             "#276419"
            ]
           ],
           "sequential": [
            [
             0,
             "#0d0887"
            ],
            [
             0.1111111111111111,
             "#46039f"
            ],
            [
             0.2222222222222222,
             "#7201a8"
            ],
            [
             0.3333333333333333,
             "#9c179e"
            ],
            [
             0.4444444444444444,
             "#bd3786"
            ],
            [
             0.5555555555555556,
             "#d8576b"
            ],
            [
             0.6666666666666666,
             "#ed7953"
            ],
            [
             0.7777777777777778,
             "#fb9f3a"
            ],
            [
             0.8888888888888888,
             "#fdca26"
            ],
            [
             1,
             "#f0f921"
            ]
           ],
           "sequentialminus": [
            [
             0,
             "#0d0887"
            ],
            [
             0.1111111111111111,
             "#46039f"
            ],
            [
             0.2222222222222222,
             "#7201a8"
            ],
            [
             0.3333333333333333,
             "#9c179e"
            ],
            [
             0.4444444444444444,
             "#bd3786"
            ],
            [
             0.5555555555555556,
             "#d8576b"
            ],
            [
             0.6666666666666666,
             "#ed7953"
            ],
            [
             0.7777777777777778,
             "#fb9f3a"
            ],
            [
             0.8888888888888888,
             "#fdca26"
            ],
            [
             1,
             "#f0f921"
            ]
           ]
          },
          "colorway": [
           "#636efa",
           "#EF553B",
           "#00cc96",
           "#ab63fa",
           "#FFA15A",
           "#19d3f3",
           "#FF6692",
           "#B6E880",
           "#FF97FF",
           "#FECB52"
          ],
          "font": {
           "color": "#2a3f5f"
          },
          "geo": {
           "bgcolor": "white",
           "lakecolor": "white",
           "landcolor": "#E5ECF6",
           "showlakes": true,
           "showland": true,
           "subunitcolor": "white"
          },
          "hoverlabel": {
           "align": "left"
          },
          "hovermode": "closest",
          "mapbox": {
           "style": "light"
          },
          "paper_bgcolor": "white",
          "plot_bgcolor": "#E5ECF6",
          "polar": {
           "angularaxis": {
            "gridcolor": "white",
            "linecolor": "white",
            "ticks": ""
           },
           "bgcolor": "#E5ECF6",
           "radialaxis": {
            "gridcolor": "white",
            "linecolor": "white",
            "ticks": ""
           }
          },
          "scene": {
           "xaxis": {
            "backgroundcolor": "#E5ECF6",
            "gridcolor": "white",
            "gridwidth": 2,
            "linecolor": "white",
            "showbackground": true,
            "ticks": "",
            "zerolinecolor": "white"
           },
           "yaxis": {
            "backgroundcolor": "#E5ECF6",
            "gridcolor": "white",
            "gridwidth": 2,
            "linecolor": "white",
            "showbackground": true,
            "ticks": "",
            "zerolinecolor": "white"
           },
           "zaxis": {
            "backgroundcolor": "#E5ECF6",
            "gridcolor": "white",
            "gridwidth": 2,
            "linecolor": "white",
            "showbackground": true,
            "ticks": "",
            "zerolinecolor": "white"
           }
          },
          "shapedefaults": {
           "line": {
            "color": "#2a3f5f"
           }
          },
          "ternary": {
           "aaxis": {
            "gridcolor": "white",
            "linecolor": "white",
            "ticks": ""
           },
           "baxis": {
            "gridcolor": "white",
            "linecolor": "white",
            "ticks": ""
           },
           "bgcolor": "#E5ECF6",
           "caxis": {
            "gridcolor": "white",
            "linecolor": "white",
            "ticks": ""
           }
          },
          "title": {
           "x": 0.05
          },
          "xaxis": {
           "automargin": true,
           "gridcolor": "white",
           "linecolor": "white",
           "ticks": "",
           "title": {
            "standoff": 15
           },
           "zerolinecolor": "white",
           "zerolinewidth": 2
          },
          "yaxis": {
           "automargin": true,
           "gridcolor": "white",
           "linecolor": "white",
           "ticks": "",
           "title": {
            "standoff": 15
           },
           "zerolinecolor": "white",
           "zerolinewidth": 2
          }
         }
        },
        "title": {
         "text": "Número de dialogos según el personaje"
        },
        "xaxis": {
         "anchor": "y",
         "domain": [
          0,
          1
         ]
        },
        "yaxis": {
         "anchor": "x",
         "domain": [
          0,
          1
         ]
        }
       }
      },
      "text/html": [
       "<div>                            <div id=\"a635c6a0-00b9-4549-b201-2a68d2ac1660\" class=\"plotly-graph-div\" style=\"height:800px; width:100%;\"></div>            <script type=\"text/javascript\">                require([\"plotly\"], function(Plotly) {                    window.PLOTLYENV=window.PLOTLYENV || {};                                    if (document.getElementById(\"a635c6a0-00b9-4549-b201-2a68d2ac1660\")) {                    Plotly.newPlot(                        \"a635c6a0-00b9-4549-b201-2a68d2ac1660\",                        [{\"marker\":{\"color\":\"crimson\",\"line\":{\"color\":\"black\",\"width\":2}},\"opacity\":0.75,\"x\":[\"Miki Koishikawa\",\"Yuu Matsuura\",\"Ginta Suou\",\"Meiko Akizuki\",\"Arimi Suzuki\",\"Tsutomu Rokutanda\",\"Jin Koishikawa\",\"Takuji Kijima\",\"Chiyako Koishikawa\",\"Rumi Matsuura\",\"Namura\",\"Satoshi Miwa\",\"Miki's friend\",\"Youji Matsuura\",\"Ryoko Momoi\",\"Customer\",\"Student\",\"Reporter\",\"Tennis Official\",\"Ginta's friend\"],\"xaxis\":\"x\",\"y\":[831,452,225,147,147,98,59,54,51,50,34,27,23,22,15,15,13,12,7,6],\"yaxis\":\"y\",\"type\":\"bar\"}],                        {\"annotations\":[{\"font\":{\"size\":16},\"showarrow\":false,\"text\":\"M\",\"x\":0.5,\"xanchor\":\"center\",\"xref\":\"paper\",\"y\":1.0,\"yanchor\":\"bottom\",\"yref\":\"paper\"}],\"height\":800,\"paper_bgcolor\":\"rgb(248, 248, 255)\",\"plot_bgcolor\":\"rgb(248, 248, 255)\",\"showlegend\":false,\"template\":{\"data\":{\"barpolar\":[{\"marker\":{\"line\":{\"color\":\"#E5ECF6\",\"width\":0.5},\"pattern\":{\"fillmode\":\"overlay\",\"size\":10,\"solidity\":0.2}},\"type\":\"barpolar\"}],\"bar\":[{\"error_x\":{\"color\":\"#2a3f5f\"},\"error_y\":{\"color\":\"#2a3f5f\"},\"marker\":{\"line\":{\"color\":\"#E5ECF6\",\"width\":0.5},\"pattern\":{\"fillmode\":\"overlay\",\"size\":10,\"solidity\":0.2}},\"type\":\"bar\"}],\"carpet\":[{\"aaxis\":{\"endlinecolor\":\"#2a3f5f\",\"gridcolor\":\"white\",\"linecolor\":\"white\",\"minorgridcolor\":\"white\",\"startlinecolor\":\"#2a3f5f\"},\"baxis\":{\"endlinecolor\":\"#2a3f5f\",\"gridcolor\":\"white\",\"linecolor\":\"white\",\"minorgridcolor\":\"white\",\"startlinecolor\":\"#2a3f5f\"},\"type\":\"carpet\"}],\"choropleth\":[{\"colorbar\":{\"outlinewidth\":0,\"ticks\":\"\"},\"type\":\"choropleth\"}],\"contourcarpet\":[{\"colorbar\":{\"outlinewidth\":0,\"ticks\":\"\"},\"type\":\"contourcarpet\"}],\"contour\":[{\"colorbar\":{\"outlinewidth\":0,\"ticks\":\"\"},\"colorscale\":[[0.0,\"#0d0887\"],[0.1111111111111111,\"#46039f\"],[0.2222222222222222,\"#7201a8\"],[0.3333333333333333,\"#9c179e\"],[0.4444444444444444,\"#bd3786\"],[0.5555555555555556,\"#d8576b\"],[0.6666666666666666,\"#ed7953\"],[0.7777777777777778,\"#fb9f3a\"],[0.8888888888888888,\"#fdca26\"],[1.0,\"#f0f921\"]],\"type\":\"contour\"}],\"heatmapgl\":[{\"colorbar\":{\"outlinewidth\":0,\"ticks\":\"\"},\"colorscale\":[[0.0,\"#0d0887\"],[0.1111111111111111,\"#46039f\"],[0.2222222222222222,\"#7201a8\"],[0.3333333333333333,\"#9c179e\"],[0.4444444444444444,\"#bd3786\"],[0.5555555555555556,\"#d8576b\"],[0.6666666666666666,\"#ed7953\"],[0.7777777777777778,\"#fb9f3a\"],[0.8888888888888888,\"#fdca26\"],[1.0,\"#f0f921\"]],\"type\":\"heatmapgl\"}],\"heatmap\":[{\"colorbar\":{\"outlinewidth\":0,\"ticks\":\"\"},\"colorscale\":[[0.0,\"#0d0887\"],[0.1111111111111111,\"#46039f\"],[0.2222222222222222,\"#7201a8\"],[0.3333333333333333,\"#9c179e\"],[0.4444444444444444,\"#bd3786\"],[0.5555555555555556,\"#d8576b\"],[0.6666666666666666,\"#ed7953\"],[0.7777777777777778,\"#fb9f3a\"],[0.8888888888888888,\"#fdca26\"],[1.0,\"#f0f921\"]],\"type\":\"heatmap\"}],\"histogram2dcontour\":[{\"colorbar\":{\"outlinewidth\":0,\"ticks\":\"\"},\"colorscale\":[[0.0,\"#0d0887\"],[0.1111111111111111,\"#46039f\"],[0.2222222222222222,\"#7201a8\"],[0.3333333333333333,\"#9c179e\"],[0.4444444444444444,\"#bd3786\"],[0.5555555555555556,\"#d8576b\"],[0.6666666666666666,\"#ed7953\"],[0.7777777777777778,\"#fb9f3a\"],[0.8888888888888888,\"#fdca26\"],[1.0,\"#f0f921\"]],\"type\":\"histogram2dcontour\"}],\"histogram2d\":[{\"colorbar\":{\"outlinewidth\":0,\"ticks\":\"\"},\"colorscale\":[[0.0,\"#0d0887\"],[0.1111111111111111,\"#46039f\"],[0.2222222222222222,\"#7201a8\"],[0.3333333333333333,\"#9c179e\"],[0.4444444444444444,\"#bd3786\"],[0.5555555555555556,\"#d8576b\"],[0.6666666666666666,\"#ed7953\"],[0.7777777777777778,\"#fb9f3a\"],[0.8888888888888888,\"#fdca26\"],[1.0,\"#f0f921\"]],\"type\":\"histogram2d\"}],\"histogram\":[{\"marker\":{\"pattern\":{\"fillmode\":\"overlay\",\"size\":10,\"solidity\":0.2}},\"type\":\"histogram\"}],\"mesh3d\":[{\"colorbar\":{\"outlinewidth\":0,\"ticks\":\"\"},\"type\":\"mesh3d\"}],\"parcoords\":[{\"line\":{\"colorbar\":{\"outlinewidth\":0,\"ticks\":\"\"}},\"type\":\"parcoords\"}],\"pie\":[{\"automargin\":true,\"type\":\"pie\"}],\"scatter3d\":[{\"line\":{\"colorbar\":{\"outlinewidth\":0,\"ticks\":\"\"}},\"marker\":{\"colorbar\":{\"outlinewidth\":0,\"ticks\":\"\"}},\"type\":\"scatter3d\"}],\"scattercarpet\":[{\"marker\":{\"colorbar\":{\"outlinewidth\":0,\"ticks\":\"\"}},\"type\":\"scattercarpet\"}],\"scattergeo\":[{\"marker\":{\"colorbar\":{\"outlinewidth\":0,\"ticks\":\"\"}},\"type\":\"scattergeo\"}],\"scattergl\":[{\"marker\":{\"colorbar\":{\"outlinewidth\":0,\"ticks\":\"\"}},\"type\":\"scattergl\"}],\"scattermapbox\":[{\"marker\":{\"colorbar\":{\"outlinewidth\":0,\"ticks\":\"\"}},\"type\":\"scattermapbox\"}],\"scatterpolargl\":[{\"marker\":{\"colorbar\":{\"outlinewidth\":0,\"ticks\":\"\"}},\"type\":\"scatterpolargl\"}],\"scatterpolar\":[{\"marker\":{\"colorbar\":{\"outlinewidth\":0,\"ticks\":\"\"}},\"type\":\"scatterpolar\"}],\"scatter\":[{\"marker\":{\"colorbar\":{\"outlinewidth\":0,\"ticks\":\"\"}},\"type\":\"scatter\"}],\"scatterternary\":[{\"marker\":{\"colorbar\":{\"outlinewidth\":0,\"ticks\":\"\"}},\"type\":\"scatterternary\"}],\"surface\":[{\"colorbar\":{\"outlinewidth\":0,\"ticks\":\"\"},\"colorscale\":[[0.0,\"#0d0887\"],[0.1111111111111111,\"#46039f\"],[0.2222222222222222,\"#7201a8\"],[0.3333333333333333,\"#9c179e\"],[0.4444444444444444,\"#bd3786\"],[0.5555555555555556,\"#d8576b\"],[0.6666666666666666,\"#ed7953\"],[0.7777777777777778,\"#fb9f3a\"],[0.8888888888888888,\"#fdca26\"],[1.0,\"#f0f921\"]],\"type\":\"surface\"}],\"table\":[{\"cells\":{\"fill\":{\"color\":\"#EBF0F8\"},\"line\":{\"color\":\"white\"}},\"header\":{\"fill\":{\"color\":\"#C8D4E3\"},\"line\":{\"color\":\"white\"}},\"type\":\"table\"}]},\"layout\":{\"annotationdefaults\":{\"arrowcolor\":\"#2a3f5f\",\"arrowhead\":0,\"arrowwidth\":1},\"autotypenumbers\":\"strict\",\"coloraxis\":{\"colorbar\":{\"outlinewidth\":0,\"ticks\":\"\"}},\"colorscale\":{\"diverging\":[[0,\"#8e0152\"],[0.1,\"#c51b7d\"],[0.2,\"#de77ae\"],[0.3,\"#f1b6da\"],[0.4,\"#fde0ef\"],[0.5,\"#f7f7f7\"],[0.6,\"#e6f5d0\"],[0.7,\"#b8e186\"],[0.8,\"#7fbc41\"],[0.9,\"#4d9221\"],[1,\"#276419\"]],\"sequential\":[[0.0,\"#0d0887\"],[0.1111111111111111,\"#46039f\"],[0.2222222222222222,\"#7201a8\"],[0.3333333333333333,\"#9c179e\"],[0.4444444444444444,\"#bd3786\"],[0.5555555555555556,\"#d8576b\"],[0.6666666666666666,\"#ed7953\"],[0.7777777777777778,\"#fb9f3a\"],[0.8888888888888888,\"#fdca26\"],[1.0,\"#f0f921\"]],\"sequentialminus\":[[0.0,\"#0d0887\"],[0.1111111111111111,\"#46039f\"],[0.2222222222222222,\"#7201a8\"],[0.3333333333333333,\"#9c179e\"],[0.4444444444444444,\"#bd3786\"],[0.5555555555555556,\"#d8576b\"],[0.6666666666666666,\"#ed7953\"],[0.7777777777777778,\"#fb9f3a\"],[0.8888888888888888,\"#fdca26\"],[1.0,\"#f0f921\"]]},\"colorway\":[\"#636efa\",\"#EF553B\",\"#00cc96\",\"#ab63fa\",\"#FFA15A\",\"#19d3f3\",\"#FF6692\",\"#B6E880\",\"#FF97FF\",\"#FECB52\"],\"font\":{\"color\":\"#2a3f5f\"},\"geo\":{\"bgcolor\":\"white\",\"lakecolor\":\"white\",\"landcolor\":\"#E5ECF6\",\"showlakes\":true,\"showland\":true,\"subunitcolor\":\"white\"},\"hoverlabel\":{\"align\":\"left\"},\"hovermode\":\"closest\",\"mapbox\":{\"style\":\"light\"},\"paper_bgcolor\":\"white\",\"plot_bgcolor\":\"#E5ECF6\",\"polar\":{\"angularaxis\":{\"gridcolor\":\"white\",\"linecolor\":\"white\",\"ticks\":\"\"},\"bgcolor\":\"#E5ECF6\",\"radialaxis\":{\"gridcolor\":\"white\",\"linecolor\":\"white\",\"ticks\":\"\"}},\"scene\":{\"xaxis\":{\"backgroundcolor\":\"#E5ECF6\",\"gridcolor\":\"white\",\"gridwidth\":2,\"linecolor\":\"white\",\"showbackground\":true,\"ticks\":\"\",\"zerolinecolor\":\"white\"},\"yaxis\":{\"backgroundcolor\":\"#E5ECF6\",\"gridcolor\":\"white\",\"gridwidth\":2,\"linecolor\":\"white\",\"showbackground\":true,\"ticks\":\"\",\"zerolinecolor\":\"white\"},\"zaxis\":{\"backgroundcolor\":\"#E5ECF6\",\"gridcolor\":\"white\",\"gridwidth\":2,\"linecolor\":\"white\",\"showbackground\":true,\"ticks\":\"\",\"zerolinecolor\":\"white\"}},\"shapedefaults\":{\"line\":{\"color\":\"#2a3f5f\"}},\"ternary\":{\"aaxis\":{\"gridcolor\":\"white\",\"linecolor\":\"white\",\"ticks\":\"\"},\"baxis\":{\"gridcolor\":\"white\",\"linecolor\":\"white\",\"ticks\":\"\"},\"bgcolor\":\"#E5ECF6\",\"caxis\":{\"gridcolor\":\"white\",\"linecolor\":\"white\",\"ticks\":\"\"}},\"title\":{\"x\":0.05},\"xaxis\":{\"automargin\":true,\"gridcolor\":\"white\",\"linecolor\":\"white\",\"ticks\":\"\",\"title\":{\"standoff\":15},\"zerolinecolor\":\"white\",\"zerolinewidth\":2},\"yaxis\":{\"automargin\":true,\"gridcolor\":\"white\",\"linecolor\":\"white\",\"ticks\":\"\",\"title\":{\"standoff\":15},\"zerolinecolor\":\"white\",\"zerolinewidth\":2}}},\"title\":{\"text\":\"N\\u00famero de dialogos seg\\u00fan el personaje\"},\"xaxis\":{\"anchor\":\"y\",\"domain\":[0.0,1.0]},\"yaxis\":{\"anchor\":\"x\",\"domain\":[0.0,1.0]}},                        {\"responsive\": true}                    ).then(function(){\n",
       "                            \n",
       "var gd = document.getElementById('a635c6a0-00b9-4549-b201-2a68d2ac1660');\n",
       "var x = new MutationObserver(function (mutations, observer) {{\n",
       "        var display = window.getComputedStyle(gd).display;\n",
       "        if (!display || display === 'none') {{\n",
       "            console.log([gd, 'removed!']);\n",
       "            Plotly.purge(gd);\n",
       "            observer.disconnect();\n",
       "        }}\n",
       "}});\n",
       "\n",
       "// Listen for the removal of the full notebook cells\n",
       "var notebookContainer = gd.closest('#notebook-container');\n",
       "if (notebookContainer) {{\n",
       "    x.observe(notebookContainer, {childList: true});\n",
       "}}\n",
       "\n",
       "// Listen for the clearing of the current output cell\n",
       "var outputEl = gd.closest('.output');\n",
       "if (outputEl) {{\n",
       "    x.observe(outputEl, {childList: true});\n",
       "}}\n",
       "\n",
       "                        })                };                });            </script>        </div>"
      ]
     },
     "metadata": {},
     "output_type": "display_data"
    }
   ],
   "source": [
    "fig['layout'].update(showlegend=False ,height=800,title=\"Número de dialogos según el personaje\",paper_bgcolor='rgb(248, 248, 255)',\n",
    "    plot_bgcolor='rgb(248, 248, 255)')\n",
    "\n",
    "iplot(fig)"
   ]
  },
  {
   "cell_type": "code",
   "execution_count": 10,
   "id": "9856e163",
   "metadata": {},
   "outputs": [],
   "source": [
    "import re\n",
    "import nltk\n",
    "from nltk.corpus import stopwords\n",
    "import nltk as nlp\n",
    "from nltk.probability import FreqDist"
   ]
  },
  {
   "cell_type": "code",
   "execution_count": 11,
   "id": "d51e26f9",
   "metadata": {
    "scrolled": true
   },
   "outputs": [],
   "source": [
    "description_list=[]\n",
    "for description in df.dialogue:\n",
    "    # regex pattern\n",
    "    description=re.sub(\"[^A-Za-z_ÑñÁáÉéÍíÓóÚú]+\", \" \", description)\n",
    "    description=description.lower()\n",
    "    description=nltk.word_tokenize(description)\n",
    "    description=[word for word in description if not word in set(stopwords.words(\"spanish\"))]\n",
    "    lemma=nlp.WordNetLemmatizer()\n",
    "    description=[lemma.lemmatize(word) for word in description]\n",
    "    description=\" \".join(description)\n",
    "    description_list.append(description)"
   ]
  },
  {
   "cell_type": "code",
   "execution_count": 12,
   "id": "83a33b0a",
   "metadata": {},
   "outputs": [
    {
     "data": {
      "text/html": [
       "<div>\n",
       "<style scoped>\n",
       "    .dataframe tbody tr th:only-of-type {\n",
       "        vertical-align: middle;\n",
       "    }\n",
       "\n",
       "    .dataframe tbody tr th {\n",
       "        vertical-align: top;\n",
       "    }\n",
       "\n",
       "    .dataframe thead th {\n",
       "        text-align: right;\n",
       "    }\n",
       "</style>\n",
       "<table border=\"1\" class=\"dataframe\">\n",
       "  <thead>\n",
       "    <tr style=\"text-align: right;\">\n",
       "      <th></th>\n",
       "      <th>index</th>\n",
       "      <th>episode</th>\n",
       "      <th>scene</th>\n",
       "      <th>character</th>\n",
       "      <th>dialogue</th>\n",
       "      <th>new_script</th>\n",
       "    </tr>\n",
       "  </thead>\n",
       "  <tbody>\n",
       "    <tr>\n",
       "      <th>1</th>\n",
       "      <td>1</td>\n",
       "      <td>1</td>\n",
       "      <td>1</td>\n",
       "      <td>Miki Koishikawa</td>\n",
       "      <td>Con Meiko</td>\n",
       "      <td>meiko</td>\n",
       "    </tr>\n",
       "    <tr>\n",
       "      <th>2</th>\n",
       "      <td>2</td>\n",
       "      <td>1</td>\n",
       "      <td>1</td>\n",
       "      <td>Miki Koishikawa</td>\n",
       "      <td>Después de las actividades del club me detuve ...</td>\n",
       "      <td>después actividades club detuve cafetería yoko...</td>\n",
       "    </tr>\n",
       "    <tr>\n",
       "      <th>3</th>\n",
       "      <td>3</td>\n",
       "      <td>1</td>\n",
       "      <td>1</td>\n",
       "      <td>Miki Koishikawa</td>\n",
       "      <td>Y resulto que en la mesa de al lado había un c...</td>\n",
       "      <td>resulto mesa lado chico guapísimo</td>\n",
       "    </tr>\n",
       "    <tr>\n",
       "      <th>4</th>\n",
       "      <td>4</td>\n",
       "      <td>1</td>\n",
       "      <td>1</td>\n",
       "      <td>Miki Koishikawa</td>\n",
       "      <td>Pero su novia vino enseguida</td>\n",
       "      <td>novia vino enseguida</td>\n",
       "    </tr>\n",
       "    <tr>\n",
       "      <th>5</th>\n",
       "      <td>5</td>\n",
       "      <td>1</td>\n",
       "      <td>1</td>\n",
       "      <td>Miki Koishikawa</td>\n",
       "      <td>Lo que me desilusionó bastante</td>\n",
       "      <td>desilusionó bastante</td>\n",
       "    </tr>\n",
       "    <tr>\n",
       "      <th>...</th>\n",
       "      <td>...</td>\n",
       "      <td>...</td>\n",
       "      <td>...</td>\n",
       "      <td>...</td>\n",
       "      <td>...</td>\n",
       "      <td>...</td>\n",
       "    </tr>\n",
       "    <tr>\n",
       "      <th>2298</th>\n",
       "      <td>2298</td>\n",
       "      <td>10</td>\n",
       "      <td>434</td>\n",
       "      <td>Miki Koishikawa</td>\n",
       "      <td>¿Pero no es?</td>\n",
       "      <td></td>\n",
       "    </tr>\n",
       "    <tr>\n",
       "      <th>2299</th>\n",
       "      <td>2299</td>\n",
       "      <td>10</td>\n",
       "      <td>435</td>\n",
       "      <td>Rumi Matsuura</td>\n",
       "      <td>Decidas lo que decidas estará bien</td>\n",
       "      <td>decidas decidas bien</td>\n",
       "    </tr>\n",
       "    <tr>\n",
       "      <th>2300</th>\n",
       "      <td>2300</td>\n",
       "      <td>10</td>\n",
       "      <td>435</td>\n",
       "      <td>Chiyako Koishikawa</td>\n",
       "      <td>Si, no debemos obligarte a nada</td>\n",
       "      <td>si debemos obligarte</td>\n",
       "    </tr>\n",
       "    <tr>\n",
       "      <th>2301</th>\n",
       "      <td>2301</td>\n",
       "      <td>10</td>\n",
       "      <td>435</td>\n",
       "      <td>Jin Koishikawa</td>\n",
       "      <td>Pero no te preocupes</td>\n",
       "      <td>preocupes</td>\n",
       "    </tr>\n",
       "    <tr>\n",
       "      <th>2302</th>\n",
       "      <td>2302</td>\n",
       "      <td>10</td>\n",
       "      <td>435</td>\n",
       "      <td>Youji Matsuura</td>\n",
       "      <td>No pasa nada, lo aceptaremos</td>\n",
       "      <td>pasa aceptaremos</td>\n",
       "    </tr>\n",
       "  </tbody>\n",
       "</table>\n",
       "<p>2302 rows × 6 columns</p>\n",
       "</div>"
      ],
      "text/plain": [
       "     index episode scene           character  \\\n",
       "1        1       1     1     Miki Koishikawa   \n",
       "2        2       1     1     Miki Koishikawa   \n",
       "3        3       1     1     Miki Koishikawa   \n",
       "4        4       1     1     Miki Koishikawa   \n",
       "5        5       1     1     Miki Koishikawa   \n",
       "...    ...     ...   ...                 ...   \n",
       "2298  2298      10   434     Miki Koishikawa   \n",
       "2299  2299      10   435       Rumi Matsuura   \n",
       "2300  2300      10   435  Chiyako Koishikawa   \n",
       "2301  2301      10   435      Jin Koishikawa   \n",
       "2302  2302      10   435      Youji Matsuura   \n",
       "\n",
       "                                               dialogue  \\\n",
       "1                                             Con Meiko   \n",
       "2     Después de las actividades del club me detuve ...   \n",
       "3     Y resulto que en la mesa de al lado había un c...   \n",
       "4                          Pero su novia vino enseguida   \n",
       "5                        Lo que me desilusionó bastante   \n",
       "...                                                 ...   \n",
       "2298                                       ¿Pero no es?   \n",
       "2299                 Decidas lo que decidas estará bien   \n",
       "2300                    Si, no debemos obligarte a nada   \n",
       "2301                               Pero no te preocupes   \n",
       "2302                       No pasa nada, lo aceptaremos   \n",
       "\n",
       "                                             new_script  \n",
       "1                                                 meiko  \n",
       "2     después actividades club detuve cafetería yoko...  \n",
       "3                     resulto mesa lado chico guapísimo  \n",
       "4                                  novia vino enseguida  \n",
       "5                                  desilusionó bastante  \n",
       "...                                                 ...  \n",
       "2298                                                     \n",
       "2299                               decidas decidas bien  \n",
       "2300                               si debemos obligarte  \n",
       "2301                                          preocupes  \n",
       "2302                                   pasa aceptaremos  \n",
       "\n",
       "[2302 rows x 6 columns]"
      ]
     },
     "execution_count": 12,
     "metadata": {},
     "output_type": "execute_result"
    }
   ],
   "source": [
    "df[\"new_script\"]=description_list\n",
    "df"
   ]
  },
  {
   "cell_type": "code",
   "execution_count": 13,
   "id": "b01df830",
   "metadata": {},
   "outputs": [
    {
     "data": {
      "text/plain": [
       "FreqDist({'': 58, 'miki': 21, 'si': 18, 'verdad': 13, 'ginta': 10, 'yuu': 9, 'bien': 9, 'arimi': 8, 'buenas tardes': 7, 'gracias': 7, ...})"
      ]
     },
     "execution_count": 13,
     "metadata": {},
     "output_type": "execute_result"
    }
   ],
   "source": [
    "fdist = FreqDist(description_list)\n",
    "fdist"
   ]
  },
  {
   "cell_type": "code",
   "execution_count": 14,
   "id": "a6933b92",
   "metadata": {
    "scrolled": true
   },
   "outputs": [
    {
     "data": {
      "text/plain": [
       "[('', 58),\n",
       " ('miki', 21),\n",
       " ('si', 18),\n",
       " ('verdad', 13),\n",
       " ('ginta', 10),\n",
       " ('yuu', 9),\n",
       " ('bien', 9),\n",
       " ('arimi', 8),\n",
       " ('buenas tardes', 7),\n",
       " ('gracias', 7),\n",
       " ('va', 7),\n",
       " ('vale', 6),\n",
       " ('hola', 6),\n",
       " ('ah', 5),\n",
       " ('buenos días', 5),\n",
       " ('pasa', 5),\n",
       " ('meiko', 4),\n",
       " ('veo', 4),\n",
       " ('claro', 4),\n",
       " ('rico', 4),\n",
       " ('bueno', 4),\n",
       " ('pues', 4),\n",
       " ('parece', 4),\n",
       " ('hablar', 4),\n",
       " ('broma', 3),\n",
       " ('ver', 3),\n",
       " ('cómo', 3),\n",
       " ('luego', 3),\n",
       " ('tampoco', 3),\n",
       " ('ah perdona', 3),\n",
       " ('idiota', 3),\n",
       " ('sé', 3),\n",
       " ('asunto', 3),\n",
       " ('dice', 3),\n",
       " ('entonces', 3),\n",
       " ('tsutomu rokutanda', 3),\n",
       " ('primo', 3),\n",
       " ('genial', 3),\n",
       " ('ah si', 3),\n",
       " ('hacer', 2),\n",
       " ('guapo', 2),\n",
       " ('importa', 2),\n",
       " ('increíble', 2),\n",
       " ('eh miki', 2),\n",
       " ('creo', 2),\n",
       " ('adiós', 2),\n",
       " ('gusta', 2),\n",
       " ('embargo', 2),\n",
       " ('entiendo', 2),\n",
       " ('bueno luego', 2)]"
      ]
     },
     "execution_count": 14,
     "metadata": {},
     "output_type": "execute_result"
    }
   ],
   "source": [
    "fdist.most_common(50)"
   ]
  },
  {
   "cell_type": "code",
   "execution_count": 15,
   "id": "f1f95c7d",
   "metadata": {},
   "outputs": [
    {
     "name": "stdout",
     "output_type": "stream",
     "text": [
      "50 palabras más comunes: ['ah' 'ahora' 'aquí' 'arimi' 'así' 'bien' 'bueno' 'casa' 'chica' 'chico'\n",
      " 'claro' 'creo' 'cómo' 'eh' 'entonces' 'espera' 'ginta' 'gracias' 'gusta'\n",
      " 'hacer' 'hecho' 'matsuura' 'mejor' 'miki' 'nunca' 'oye' 'padre' 'parece'\n",
      " 'pasa' 'puede' 'puedo' 'pues' 'quieres' 'quiero' 'quién' 'sabes' 'ser'\n",
      " 'si' 'siempre' 'solo' 'sé' 'tan' 'va' 'vamos' 'vaya' 'ver' 'verdad' 'vez'\n",
      " 'voy' 'yuu']\n"
     ]
    }
   ],
   "source": [
    "from sklearn.feature_extraction.text import CountVectorizer \n",
    "\n",
    "max_features = 50\n",
    "\n",
    "count_vectorizer = CountVectorizer(max_features=max_features,stop_words = \"english\")\n",
    "\n",
    "sparce_matrix = count_vectorizer.fit_transform(description_list).toarray()\n",
    "\n",
    "print(\"{} palabras más comunes: {}\".format(max_features,count_vectorizer.get_feature_names_out()))"
   ]
  },
  {
   "cell_type": "code",
   "execution_count": 16,
   "id": "6c6bbd26",
   "metadata": {},
   "outputs": [
    {
     "data": {
      "text/plain": [
       "{'Miki Koishikawa': [262, 831],\n",
       " 'Yuu Matsuura': [123, 452],\n",
       " 'Ginta Suou': [90, 225],\n",
       " 'Arimi Suzuki': [52, 147],\n",
       " 'Meiko Akizuki': [50, 147],\n",
       " 'Tsutomu Rokutanda': [28, 98],\n",
       " 'Chiyako Koishikawa': [22, 51],\n",
       " 'Rumi Matsuura': [22, 50],\n",
       " 'Namura': [19, 34],\n",
       " 'Jin Koishikawa': [18, 59],\n",
       " 'Takuji Kijima': [15, 54],\n",
       " 'Youji Matsuura': [14, 22],\n",
       " \"Miki's friend\": [10, 23],\n",
       " 'Ryoko Momoi': [9, 15],\n",
       " 'Customer': [8, 15],\n",
       " 'Student': [7, 13],\n",
       " 'Tennis Official': [6, 7],\n",
       " 'Satoshi Miwa': [5, 27],\n",
       " \"Ginta's friend\": [4, 6],\n",
       " 'Reporter': [2, 12],\n",
       " 'All fathers': [2, 4],\n",
       " \"Ginta's friends\": [2, 2],\n",
       " \"Tsutomu's friend\": [2, 2],\n",
       " \"Miki's friends\": [1, 3],\n",
       " \"Miki's fathers\": [1, 1],\n",
       " \"Yuu's fathers\": [1, 1],\n",
       " \"Arimi's boyfriend\": [1, 1]}"
      ]
     },
     "execution_count": 16,
     "metadata": {},
     "output_type": "execute_result"
    }
   ],
   "source": [
    "speaker_scene_count = {}\n",
    "for name,df in df.groupby(['episode','scene']):\n",
    "    for speaker_name in df.character.unique().tolist():\n",
    "        if speaker_name in speaker_scene_count.keys():\n",
    "            speaker_scene_count[speaker_name][0]+=1\n",
    "            speaker_scene_count[speaker_name][1]+= df.character.tolist().count(speaker_name)\n",
    "        else:\n",
    "            speaker_scene_count[speaker_name] = []\n",
    "            speaker_scene_count[speaker_name].append(1)\n",
    "            speaker_scene_count[speaker_name].append(df.character.tolist().count(speaker_name))\n",
    "scene_count = {k: v for k, v in sorted(speaker_scene_count.items(), key=lambda item: item[1],reverse = True)}\n",
    "# pd.Series(scene_count).head(20).plot(kind='bar')\n",
    "scene_count"
   ]
  },
  {
   "cell_type": "code",
   "execution_count": 17,
   "id": "c22530cd",
   "metadata": {},
   "outputs": [
    {
     "name": "stdout",
     "output_type": "stream",
     "text": [
      "<class 'pandas.core.frame.DataFrame'>\n",
      "Index: 27 entries, Miki Koishikawa to Arimi's boyfriend\n",
      "Data columns (total 2 columns):\n",
      " #   Column             Non-Null Count  Dtype\n",
      "---  ------             --------------  -----\n",
      " 0   # of Scenes        27 non-null     int64\n",
      " 1   # of lines spoken  27 non-null     int64\n",
      "dtypes: int64(2)\n",
      "memory usage: 648.0+ bytes\n"
     ]
    }
   ],
   "source": [
    "df_scenes_lines = pd.DataFrame(scene_count)\n",
    "df_scenes_lines = df_scenes_lines.T\n",
    "df_scenes_lines.columns = ['# of Scenes','# of lines spoken']\n",
    "df_scenes_lines.info()"
   ]
  },
  {
   "cell_type": "code",
   "execution_count": 18,
   "id": "181a30db",
   "metadata": {},
   "outputs": [
    {
     "data": {
      "text/plain": [
       "<AxesSubplot:xlabel='# of lines spoken'>"
      ]
     },
     "execution_count": 18,
     "metadata": {},
     "output_type": "execute_result"
    },
    {
     "data": {
      "image/png": "[encoded data removed]",
      "text/plain": [
       "<Figure size 1296x576 with 2 Axes>"
      ]
     },
     "metadata": {
      "needs_background": "light"
     },
     "output_type": "display_data"
    }
   ],
   "source": [
    "df_scenes_lines['# of lines per scene'] = df_scenes_lines['# of lines spoken']/df_scenes_lines['# of Scenes']\n",
    "num = 12\n",
    "f, axes = plt.subplots(1, 2,figsize=(18,8))\n",
    "scenes = df_scenes_lines['# of Scenes'].sort_values(ascending=False).head(num)\n",
    "scenes_character = [ x.title() for x in df_scenes_lines['# of Scenes'].sort_values(ascending=False).head(num).index]\n",
    "\n",
    "sns.barplot(x=scenes,y=scenes_character, ax=axes[0])\n",
    "lines_spoken = df_scenes_lines['# of lines spoken'].sort_values(ascending=False).head(num)\n",
    "lines_spoken_character = [ x.title() for x in df_scenes_lines['# of lines spoken'].sort_values(ascending=False).head(num).index]\n",
    "sns.barplot(x=lines_spoken,y=lines_spoken_character, ax=axes[1])"
   ]
  },
  {
   "cell_type": "code",
   "execution_count": 19,
   "id": "522084c6",
   "metadata": {},
   "outputs": [],
   "source": [
    "df = pd.read_csv(r\"C:\\Users\\frans\\Downloads\\MarmaladeBoy_Script.csv\", names=[\"index\",\"episode\",\"scene\",\"character\",\"dialogue\"], header=None)"
   ]
  },
  {
   "cell_type": "code",
   "execution_count": 20,
   "id": "a4440b92",
   "metadata": {},
   "outputs": [
    {
     "data": {
      "text/plain": [
       "{'Miki Koishikawa': 110,\n",
       " 'Miki Koishikawa, Yuu Matsuura': 48,\n",
       " 'Ginta Suou': 24,\n",
       " 'Yuu Matsuura': 19,\n",
       " 'Meiko Akizuki, Miki Koishikawa': 17,\n",
       " 'Ginta Suou, Miki Koishikawa': 12,\n",
       " 'Arimi Suzuki, Miki Koishikawa': 12,\n",
       " 'Arimi Suzuki': 12,\n",
       " 'Tsutomu Rokutanda': 11,\n",
       " 'Arimi Suzuki, Ginta Suou': 11,\n",
       " 'Meiko Akizuki': 8,\n",
       " 'Chiyako Koishikawa, Jin Koishikawa, Miki Koishikawa, Rumi Matsuura, Youji Matsuura, Yuu Matsuura': 7,\n",
       " 'Ginta Suou, Yuu Matsuura': 7,\n",
       " 'Ginta Suou, Meiko Akizuki': 5,\n",
       " 'Arimi Suzuki, Yuu Matsuura': 5,\n",
       " 'Tennis Official': 5,\n",
       " 'Miki Koishikawa, \"Mikis friend\"': 4,\n",
       " '\"Mikis friend\"': 4,\n",
       " 'Namura, Ryoko Momoi': 4,\n",
       " 'Meiko Akizuki, Miki Koishikawa, Yuu Matsuura': 4,\n",
       " 'Ginta Suou, Tsutomu Rokutanda': 4,\n",
       " 'Customer': 4,\n",
       " 'Meiko Akizuki, Yuu Matsuura': 3,\n",
       " 'Ginta Suou, Meiko Akizuki, Miki Koishikawa': 3,\n",
       " 'Miki Koishikawa, Takuji Kijima, Yuu Matsuura': 3,\n",
       " 'Miki Koishikawa, Namura': 3,\n",
       " 'Arimi Suzuki, Miki Koishikawa, Yuu Matsuura': 3,\n",
       " 'Arimi Suzuki, Ginta Suou, Miki Koishikawa': 3,\n",
       " 'Meiko Akizuki, Miki Koishikawa, Takuji Kijima, Yuu Matsuura': 3,\n",
       " 'Takuji Kijima': 3,\n",
       " 'Meiko Akizuki, Satoshi Miwa': 3,\n",
       " 'Chiyako Koishikawa, Rumi Matsuura': 2,\n",
       " 'Jin Koishikawa, Miki Koishikawa, Rumi Matsuura': 2,\n",
       " 'Chiyako Koishikawa, Jin Koishikawa, Rumi Matsuura, Youji Matsuura': 2,\n",
       " 'Chiyako Koishikawa, Miki Koishikawa': 2,\n",
       " 'Miki Koishikawa, Rumi Matsuura': 2,\n",
       " 'Ryoko Momoi': 2,\n",
       " 'Miki Koishikawa, Takuji Kijima': 2,\n",
       " 'Ginta Suou, Student': 2,\n",
       " 'Namura': 2,\n",
       " '\"Gintas friend\"': 2,\n",
       " 'Ginta Suou, Tsutomu Rokutanda, Yuu Matsuura': 2,\n",
       " 'Tsutomu Rokutanda, \"Tsutomus friend\"': 2,\n",
       " 'Ginta Suou, Miki Koishikawa, Tsutomu Rokutanda, Yuu Matsuura': 2,\n",
       " 'Chiyako Koishikawa': 2,\n",
       " 'Chiyako Koishikawa, Jin Koishikawa, Miki Koishikawa, Rumi Matsuura, Youji Matsuura': 2,\n",
       " 'All fathers, Chiyako Koishikawa, Jin Koishikawa, Miki Koishikawa, Rumi Matsuura, Youji Matsuura, Yuu Matsuura': 1,\n",
       " 'Jin Koishikawa, Miki Koishikawa, \"Mikis fathers\", Rumi Matsuura': 1,\n",
       " 'Miki Koishikawa, Namura, Yuu Matsuura': 1,\n",
       " 'Chiyako Koishikawa, Jin Koishikawa, Miki Koishikawa, Rumi Matsuura, Youji Matsuura, \"Yuus fathers\"': 1,\n",
       " 'Miki Koishikawa, Reporter, Yuu Matsuura': 1,\n",
       " 'Ginta Suou, \"Gintas friend\"': 1,\n",
       " '\"Mikis friends\"': 1,\n",
       " 'Satoshi Miwa, Yuu Matsuura': 1,\n",
       " 'Satoshi Miwa': 1,\n",
       " 'Chiyako Koishikawa, Miki Koishikawa, Yuu Matsuura': 1,\n",
       " 'Arimi Suzuki, \"Arimis boyfriend\"': 1,\n",
       " 'Chiyako Koishikawa, Jin Koishikawa, Rumi Matsuura': 1,\n",
       " 'Ginta Suou, \"Gintas friend\", \"Gintas friends\"': 1,\n",
       " '\"Gintas friends\"': 1,\n",
       " 'Ginta Suou, Miki Koishikawa, Yuu Matsuura': 1,\n",
       " 'Ginta Suou, Miki Koishikawa, Namura, Student': 1,\n",
       " 'Ginta Suou, Miki Koishikawa, Namura': 1,\n",
       " 'Ginta Suou, Miki Koishikawa, Namura, Yuu Matsuura': 1,\n",
       " 'Namura, Yuu Matsuura': 1,\n",
       " 'Reporter, Yuu Matsuura': 1,\n",
       " 'Arimi Suzuki, Ginta Suou, Yuu Matsuura': 1,\n",
       " 'Arimi Suzuki, Ginta Suou, Miki Koishikawa, Tsutomu Rokutanda, Yuu Matsuura': 1,\n",
       " 'Ginta Suou, Miki Koishikawa, Tsutomu Rokutanda': 1,\n",
       " 'Miki Koishikawa, \"Mikis friend\", Student': 1,\n",
       " 'Ginta Suou, Namura': 1,\n",
       " 'Namura, Ryoko Momoi, Tennis Official': 1,\n",
       " 'Meiko Akizuki, Miki Koishikawa, Student': 1,\n",
       " 'Arimi Suzuki, Ginta Suou, Miki Koishikawa, Yuu Matsuura': 1,\n",
       " 'Ginta Suou, Meiko Akizuki, Yuu Matsuura': 1,\n",
       " 'Meiko Akizuki, Miki Koishikawa, \"Mikis friend\", Student': 1,\n",
       " 'Meiko Akizuki, Student': 1,\n",
       " 'All fathers, Chiyako Koishikawa, Jin Koishikawa, Rumi Matsuura, Youji Matsuura': 1,\n",
       " 'Customer, Miki Koishikawa': 1,\n",
       " 'Customer, Yuu Matsuura': 1,\n",
       " 'Arimi Suzuki, Ginta Suou, Tsutomu Rokutanda, Yuu Matsuura': 1,\n",
       " 'Takuji Kijima, Tsutomu Rokutanda': 1,\n",
       " 'Ginta Suou, Takuji Kijima, Tsutomu Rokutanda, Yuu Matsuura': 1,\n",
       " 'Customer, Namura': 1,\n",
       " 'Customer, Tsutomu Rokutanda': 1,\n",
       " 'Namura, Ryoko Momoi, Takuji Kijima': 1,\n",
       " 'Arimi Suzuki, Ginta Suou, Miki Koishikawa, Namura, Ryoko Momoi, Takuji Kijima, Tsutomu Rokutanda, Yuu Matsuura': 1,\n",
       " 'characters': 1}"
      ]
     },
     "execution_count": 20,
     "metadata": {},
     "output_type": "execute_result"
    }
   ],
   "source": [
    "char_dict = {}\n",
    "for group, group_df in df.groupby(['episode','scene']):\n",
    "#     print(group,group_df)\n",
    "#     print(group_df['speaker'].sort_values().unique().tolist())\n",
    "    char_in_scene = str(group_df['character'].sort_values().unique().tolist())[1:-1].replace(\"'\",\"\")\n",
    "#     print(char_in_scene)\n",
    "    if char_in_scene in char_dict.keys():\n",
    "        char_dict[char_in_scene] +=1\n",
    "    else:\n",
    "        char_dict[char_in_scene] = 1\n",
    "        \n",
    "        \n",
    "#     break\n",
    "sorted_dict = {k: v for k, v in sorted(char_dict.items(), key=lambda item: item[1],reverse = True)}\n",
    "sorted_dict"
   ]
  },
  {
   "cell_type": "code",
   "execution_count": 21,
   "id": "e38afd1b",
   "metadata": {},
   "outputs": [
    {
     "data": {
      "text/plain": [
       "['Arimi Suzuki',\n",
       " 'Chiyako Koishikawa',\n",
       " 'Ginta Suou',\n",
       " 'Jin Koishikawa',\n",
       " 'Meiko Akizuki',\n",
       " 'Miki Koishikawa',\n",
       " 'Namura',\n",
       " 'Rumi Matsuura',\n",
       " 'Ryoko Momoi',\n",
       " 'Satoshi Miwa',\n",
       " 'Takuji Kijima',\n",
       " 'Tsutomu Rokutanda',\n",
       " 'Youji Matsuura',\n",
       " 'Yuu Matsuura']"
      ]
     },
     "execution_count": 21,
     "metadata": {},
     "output_type": "execute_result"
    }
   ],
   "source": [
    "sorted_chars =  sorted(['Miki Koishikawa', 'Yuu Matsuura', 'Meiko Akizuki', 'Ginta Suou', 'Arimi Suzuki', 'Chiyako Koishikawa', 'Rumi Matsuura', 'Youji Matsuura',\n",
    "       'Jin Koishikawa', 'Satoshi Miwa', 'Namura', 'Ryoko Momoi','Takuji Kijima','Tsutomu Rokutanda'])\n",
    "sorted_chars"
   ]
  },
  {
   "cell_type": "code",
   "execution_count": 22,
   "id": "aca765bc",
   "metadata": {},
   "outputs": [],
   "source": [
    "relations = [x+', '+y for x in sorted_chars for y in sorted_chars if x != y and x<y]"
   ]
  },
  {
   "cell_type": "code",
   "execution_count": 23,
   "id": "b471a1e8",
   "metadata": {},
   "outputs": [
    {
     "data": {
      "text/plain": [
       "['Arimi Suzuki, Chiyako Koishikawa',\n",
       " 'Arimi Suzuki, Ginta Suou',\n",
       " 'Arimi Suzuki, Jin Koishikawa',\n",
       " 'Arimi Suzuki, Meiko Akizuki',\n",
       " 'Arimi Suzuki, Miki Koishikawa',\n",
       " 'Arimi Suzuki, Namura',\n",
       " 'Arimi Suzuki, Rumi Matsuura',\n",
       " 'Arimi Suzuki, Ryoko Momoi',\n",
       " 'Arimi Suzuki, Satoshi Miwa',\n",
       " 'Arimi Suzuki, Takuji Kijima',\n",
       " 'Arimi Suzuki, Tsutomu Rokutanda',\n",
       " 'Arimi Suzuki, Youji Matsuura',\n",
       " 'Arimi Suzuki, Yuu Matsuura',\n",
       " 'Chiyako Koishikawa, Ginta Suou',\n",
       " 'Chiyako Koishikawa, Jin Koishikawa',\n",
       " 'Chiyako Koishikawa, Meiko Akizuki',\n",
       " 'Chiyako Koishikawa, Miki Koishikawa',\n",
       " 'Chiyako Koishikawa, Namura',\n",
       " 'Chiyako Koishikawa, Rumi Matsuura',\n",
       " 'Chiyako Koishikawa, Ryoko Momoi',\n",
       " 'Chiyako Koishikawa, Satoshi Miwa',\n",
       " 'Chiyako Koishikawa, Takuji Kijima',\n",
       " 'Chiyako Koishikawa, Tsutomu Rokutanda',\n",
       " 'Chiyako Koishikawa, Youji Matsuura',\n",
       " 'Chiyako Koishikawa, Yuu Matsuura',\n",
       " 'Ginta Suou, Jin Koishikawa',\n",
       " 'Ginta Suou, Meiko Akizuki',\n",
       " 'Ginta Suou, Miki Koishikawa',\n",
       " 'Ginta Suou, Namura',\n",
       " 'Ginta Suou, Rumi Matsuura',\n",
       " 'Ginta Suou, Ryoko Momoi',\n",
       " 'Ginta Suou, Satoshi Miwa',\n",
       " 'Ginta Suou, Takuji Kijima',\n",
       " 'Ginta Suou, Tsutomu Rokutanda',\n",
       " 'Ginta Suou, Youji Matsuura',\n",
       " 'Ginta Suou, Yuu Matsuura',\n",
       " 'Jin Koishikawa, Meiko Akizuki',\n",
       " 'Jin Koishikawa, Miki Koishikawa',\n",
       " 'Jin Koishikawa, Namura',\n",
       " 'Jin Koishikawa, Rumi Matsuura',\n",
       " 'Jin Koishikawa, Ryoko Momoi',\n",
       " 'Jin Koishikawa, Satoshi Miwa',\n",
       " 'Jin Koishikawa, Takuji Kijima',\n",
       " 'Jin Koishikawa, Tsutomu Rokutanda',\n",
       " 'Jin Koishikawa, Youji Matsuura',\n",
       " 'Jin Koishikawa, Yuu Matsuura',\n",
       " 'Meiko Akizuki, Miki Koishikawa',\n",
       " 'Meiko Akizuki, Namura',\n",
       " 'Meiko Akizuki, Rumi Matsuura',\n",
       " 'Meiko Akizuki, Ryoko Momoi',\n",
       " 'Meiko Akizuki, Satoshi Miwa',\n",
       " 'Meiko Akizuki, Takuji Kijima',\n",
       " 'Meiko Akizuki, Tsutomu Rokutanda',\n",
       " 'Meiko Akizuki, Youji Matsuura',\n",
       " 'Meiko Akizuki, Yuu Matsuura',\n",
       " 'Miki Koishikawa, Namura',\n",
       " 'Miki Koishikawa, Rumi Matsuura',\n",
       " 'Miki Koishikawa, Ryoko Momoi',\n",
       " 'Miki Koishikawa, Satoshi Miwa',\n",
       " 'Miki Koishikawa, Takuji Kijima',\n",
       " 'Miki Koishikawa, Tsutomu Rokutanda',\n",
       " 'Miki Koishikawa, Youji Matsuura',\n",
       " 'Miki Koishikawa, Yuu Matsuura',\n",
       " 'Namura, Rumi Matsuura',\n",
       " 'Namura, Ryoko Momoi',\n",
       " 'Namura, Satoshi Miwa',\n",
       " 'Namura, Takuji Kijima',\n",
       " 'Namura, Tsutomu Rokutanda',\n",
       " 'Namura, Youji Matsuura',\n",
       " 'Namura, Yuu Matsuura',\n",
       " 'Rumi Matsuura, Ryoko Momoi',\n",
       " 'Rumi Matsuura, Satoshi Miwa',\n",
       " 'Rumi Matsuura, Takuji Kijima',\n",
       " 'Rumi Matsuura, Tsutomu Rokutanda',\n",
       " 'Rumi Matsuura, Youji Matsuura',\n",
       " 'Rumi Matsuura, Yuu Matsuura',\n",
       " 'Ryoko Momoi, Satoshi Miwa',\n",
       " 'Ryoko Momoi, Takuji Kijima',\n",
       " 'Ryoko Momoi, Tsutomu Rokutanda',\n",
       " 'Ryoko Momoi, Youji Matsuura',\n",
       " 'Ryoko Momoi, Yuu Matsuura',\n",
       " 'Satoshi Miwa, Takuji Kijima',\n",
       " 'Satoshi Miwa, Tsutomu Rokutanda',\n",
       " 'Satoshi Miwa, Youji Matsuura',\n",
       " 'Satoshi Miwa, Yuu Matsuura',\n",
       " 'Takuji Kijima, Tsutomu Rokutanda',\n",
       " 'Takuji Kijima, Youji Matsuura',\n",
       " 'Takuji Kijima, Yuu Matsuura',\n",
       " 'Tsutomu Rokutanda, Youji Matsuura',\n",
       " 'Tsutomu Rokutanda, Yuu Matsuura',\n",
       " 'Youji Matsuura, Yuu Matsuura',\n",
       " 'Arimi Suzuki, Chiyako Koishikawa, Ginta Suou',\n",
       " 'Arimi Suzuki, Chiyako Koishikawa, Jin Koishikawa',\n",
       " 'Arimi Suzuki, Chiyako Koishikawa, Meiko Akizuki',\n",
       " 'Arimi Suzuki, Chiyako Koishikawa, Miki Koishikawa',\n",
       " 'Arimi Suzuki, Chiyako Koishikawa, Namura',\n",
       " 'Arimi Suzuki, Chiyako Koishikawa, Rumi Matsuura',\n",
       " 'Arimi Suzuki, Chiyako Koishikawa, Ryoko Momoi',\n",
       " 'Arimi Suzuki, Chiyako Koishikawa, Satoshi Miwa',\n",
       " 'Arimi Suzuki, Chiyako Koishikawa, Takuji Kijima',\n",
       " 'Arimi Suzuki, Chiyako Koishikawa, Tsutomu Rokutanda',\n",
       " 'Arimi Suzuki, Chiyako Koishikawa, Youji Matsuura',\n",
       " 'Arimi Suzuki, Chiyako Koishikawa, Yuu Matsuura',\n",
       " 'Arimi Suzuki, Ginta Suou, Jin Koishikawa',\n",
       " 'Arimi Suzuki, Ginta Suou, Meiko Akizuki',\n",
       " 'Arimi Suzuki, Ginta Suou, Miki Koishikawa',\n",
       " 'Arimi Suzuki, Ginta Suou, Namura',\n",
       " 'Arimi Suzuki, Ginta Suou, Rumi Matsuura',\n",
       " 'Arimi Suzuki, Ginta Suou, Ryoko Momoi',\n",
       " 'Arimi Suzuki, Ginta Suou, Satoshi Miwa',\n",
       " 'Arimi Suzuki, Ginta Suou, Takuji Kijima',\n",
       " 'Arimi Suzuki, Ginta Suou, Tsutomu Rokutanda',\n",
       " 'Arimi Suzuki, Ginta Suou, Youji Matsuura',\n",
       " 'Arimi Suzuki, Ginta Suou, Yuu Matsuura',\n",
       " 'Arimi Suzuki, Jin Koishikawa, Meiko Akizuki',\n",
       " 'Arimi Suzuki, Jin Koishikawa, Miki Koishikawa',\n",
       " 'Arimi Suzuki, Jin Koishikawa, Namura',\n",
       " 'Arimi Suzuki, Jin Koishikawa, Rumi Matsuura',\n",
       " 'Arimi Suzuki, Jin Koishikawa, Ryoko Momoi',\n",
       " 'Arimi Suzuki, Jin Koishikawa, Satoshi Miwa',\n",
       " 'Arimi Suzuki, Jin Koishikawa, Takuji Kijima',\n",
       " 'Arimi Suzuki, Jin Koishikawa, Tsutomu Rokutanda',\n",
       " 'Arimi Suzuki, Jin Koishikawa, Youji Matsuura',\n",
       " 'Arimi Suzuki, Jin Koishikawa, Yuu Matsuura',\n",
       " 'Arimi Suzuki, Meiko Akizuki, Miki Koishikawa',\n",
       " 'Arimi Suzuki, Meiko Akizuki, Namura',\n",
       " 'Arimi Suzuki, Meiko Akizuki, Rumi Matsuura',\n",
       " 'Arimi Suzuki, Meiko Akizuki, Ryoko Momoi',\n",
       " 'Arimi Suzuki, Meiko Akizuki, Satoshi Miwa',\n",
       " 'Arimi Suzuki, Meiko Akizuki, Takuji Kijima',\n",
       " 'Arimi Suzuki, Meiko Akizuki, Tsutomu Rokutanda',\n",
       " 'Arimi Suzuki, Meiko Akizuki, Youji Matsuura',\n",
       " 'Arimi Suzuki, Meiko Akizuki, Yuu Matsuura',\n",
       " 'Arimi Suzuki, Miki Koishikawa, Namura',\n",
       " 'Arimi Suzuki, Miki Koishikawa, Rumi Matsuura',\n",
       " 'Arimi Suzuki, Miki Koishikawa, Ryoko Momoi',\n",
       " 'Arimi Suzuki, Miki Koishikawa, Satoshi Miwa',\n",
       " 'Arimi Suzuki, Miki Koishikawa, Takuji Kijima',\n",
       " 'Arimi Suzuki, Miki Koishikawa, Tsutomu Rokutanda',\n",
       " 'Arimi Suzuki, Miki Koishikawa, Youji Matsuura',\n",
       " 'Arimi Suzuki, Miki Koishikawa, Yuu Matsuura',\n",
       " 'Arimi Suzuki, Namura, Rumi Matsuura',\n",
       " 'Arimi Suzuki, Namura, Ryoko Momoi',\n",
       " 'Arimi Suzuki, Namura, Satoshi Miwa',\n",
       " 'Arimi Suzuki, Namura, Takuji Kijima',\n",
       " 'Arimi Suzuki, Namura, Tsutomu Rokutanda',\n",
       " 'Arimi Suzuki, Namura, Youji Matsuura',\n",
       " 'Arimi Suzuki, Namura, Yuu Matsuura',\n",
       " 'Arimi Suzuki, Rumi Matsuura, Ryoko Momoi',\n",
       " 'Arimi Suzuki, Rumi Matsuura, Satoshi Miwa',\n",
       " 'Arimi Suzuki, Rumi Matsuura, Takuji Kijima',\n",
       " 'Arimi Suzuki, Rumi Matsuura, Tsutomu Rokutanda',\n",
       " 'Arimi Suzuki, Rumi Matsuura, Youji Matsuura',\n",
       " 'Arimi Suzuki, Rumi Matsuura, Yuu Matsuura',\n",
       " 'Arimi Suzuki, Ryoko Momoi, Satoshi Miwa',\n",
       " 'Arimi Suzuki, Ryoko Momoi, Takuji Kijima',\n",
       " 'Arimi Suzuki, Ryoko Momoi, Tsutomu Rokutanda',\n",
       " 'Arimi Suzuki, Ryoko Momoi, Youji Matsuura',\n",
       " 'Arimi Suzuki, Ryoko Momoi, Yuu Matsuura',\n",
       " 'Arimi Suzuki, Satoshi Miwa, Takuji Kijima',\n",
       " 'Arimi Suzuki, Satoshi Miwa, Tsutomu Rokutanda',\n",
       " 'Arimi Suzuki, Satoshi Miwa, Youji Matsuura',\n",
       " 'Arimi Suzuki, Satoshi Miwa, Yuu Matsuura',\n",
       " 'Arimi Suzuki, Takuji Kijima, Tsutomu Rokutanda',\n",
       " 'Arimi Suzuki, Takuji Kijima, Youji Matsuura',\n",
       " 'Arimi Suzuki, Takuji Kijima, Yuu Matsuura',\n",
       " 'Arimi Suzuki, Tsutomu Rokutanda, Youji Matsuura',\n",
       " 'Arimi Suzuki, Tsutomu Rokutanda, Yuu Matsuura',\n",
       " 'Arimi Suzuki, Youji Matsuura, Yuu Matsuura',\n",
       " 'Chiyako Koishikawa, Ginta Suou, Jin Koishikawa',\n",
       " 'Chiyako Koishikawa, Ginta Suou, Meiko Akizuki',\n",
       " 'Chiyako Koishikawa, Ginta Suou, Miki Koishikawa',\n",
       " 'Chiyako Koishikawa, Ginta Suou, Namura',\n",
       " 'Chiyako Koishikawa, Ginta Suou, Rumi Matsuura',\n",
       " 'Chiyako Koishikawa, Ginta Suou, Ryoko Momoi',\n",
       " 'Chiyako Koishikawa, Ginta Suou, Satoshi Miwa',\n",
       " 'Chiyako Koishikawa, Ginta Suou, Takuji Kijima',\n",
       " 'Chiyako Koishikawa, Ginta Suou, Tsutomu Rokutanda',\n",
       " 'Chiyako Koishikawa, Ginta Suou, Youji Matsuura',\n",
       " 'Chiyako Koishikawa, Ginta Suou, Yuu Matsuura',\n",
       " 'Chiyako Koishikawa, Jin Koishikawa, Meiko Akizuki',\n",
       " 'Chiyako Koishikawa, Jin Koishikawa, Miki Koishikawa',\n",
       " 'Chiyako Koishikawa, Jin Koishikawa, Namura',\n",
       " 'Chiyako Koishikawa, Jin Koishikawa, Rumi Matsuura',\n",
       " 'Chiyako Koishikawa, Jin Koishikawa, Ryoko Momoi',\n",
       " 'Chiyako Koishikawa, Jin Koishikawa, Satoshi Miwa',\n",
       " 'Chiyako Koishikawa, Jin Koishikawa, Takuji Kijima',\n",
       " 'Chiyako Koishikawa, Jin Koishikawa, Tsutomu Rokutanda',\n",
       " 'Chiyako Koishikawa, Jin Koishikawa, Youji Matsuura',\n",
       " 'Chiyako Koishikawa, Jin Koishikawa, Yuu Matsuura',\n",
       " 'Chiyako Koishikawa, Meiko Akizuki, Miki Koishikawa',\n",
       " 'Chiyako Koishikawa, Meiko Akizuki, Namura',\n",
       " 'Chiyako Koishikawa, Meiko Akizuki, Rumi Matsuura',\n",
       " 'Chiyako Koishikawa, Meiko Akizuki, Ryoko Momoi',\n",
       " 'Chiyako Koishikawa, Meiko Akizuki, Satoshi Miwa',\n",
       " 'Chiyako Koishikawa, Meiko Akizuki, Takuji Kijima',\n",
       " 'Chiyako Koishikawa, Meiko Akizuki, Tsutomu Rokutanda',\n",
       " 'Chiyako Koishikawa, Meiko Akizuki, Youji Matsuura',\n",
       " 'Chiyako Koishikawa, Meiko Akizuki, Yuu Matsuura',\n",
       " 'Chiyako Koishikawa, Miki Koishikawa, Namura',\n",
       " 'Chiyako Koishikawa, Miki Koishikawa, Rumi Matsuura',\n",
       " 'Chiyako Koishikawa, Miki Koishikawa, Ryoko Momoi',\n",
       " 'Chiyako Koishikawa, Miki Koishikawa, Satoshi Miwa',\n",
       " 'Chiyako Koishikawa, Miki Koishikawa, Takuji Kijima',\n",
       " 'Chiyako Koishikawa, Miki Koishikawa, Tsutomu Rokutanda',\n",
       " 'Chiyako Koishikawa, Miki Koishikawa, Youji Matsuura',\n",
       " 'Chiyako Koishikawa, Miki Koishikawa, Yuu Matsuura',\n",
       " 'Chiyako Koishikawa, Namura, Rumi Matsuura',\n",
       " 'Chiyako Koishikawa, Namura, Ryoko Momoi',\n",
       " 'Chiyako Koishikawa, Namura, Satoshi Miwa',\n",
       " 'Chiyako Koishikawa, Namura, Takuji Kijima',\n",
       " 'Chiyako Koishikawa, Namura, Tsutomu Rokutanda',\n",
       " 'Chiyako Koishikawa, Namura, Youji Matsuura',\n",
       " 'Chiyako Koishikawa, Namura, Yuu Matsuura',\n",
       " 'Chiyako Koishikawa, Rumi Matsuura, Ryoko Momoi',\n",
       " 'Chiyako Koishikawa, Rumi Matsuura, Satoshi Miwa',\n",
       " 'Chiyako Koishikawa, Rumi Matsuura, Takuji Kijima',\n",
       " 'Chiyako Koishikawa, Rumi Matsuura, Tsutomu Rokutanda',\n",
       " 'Chiyako Koishikawa, Rumi Matsuura, Youji Matsuura',\n",
       " 'Chiyako Koishikawa, Rumi Matsuura, Yuu Matsuura',\n",
       " 'Chiyako Koishikawa, Ryoko Momoi, Satoshi Miwa',\n",
       " 'Chiyako Koishikawa, Ryoko Momoi, Takuji Kijima',\n",
       " 'Chiyako Koishikawa, Ryoko Momoi, Tsutomu Rokutanda',\n",
       " 'Chiyako Koishikawa, Ryoko Momoi, Youji Matsuura',\n",
       " 'Chiyako Koishikawa, Ryoko Momoi, Yuu Matsuura',\n",
       " 'Chiyako Koishikawa, Satoshi Miwa, Takuji Kijima',\n",
       " 'Chiyako Koishikawa, Satoshi Miwa, Tsutomu Rokutanda',\n",
       " 'Chiyako Koishikawa, Satoshi Miwa, Youji Matsuura',\n",
       " 'Chiyako Koishikawa, Satoshi Miwa, Yuu Matsuura',\n",
       " 'Chiyako Koishikawa, Takuji Kijima, Tsutomu Rokutanda',\n",
       " 'Chiyako Koishikawa, Takuji Kijima, Youji Matsuura',\n",
       " 'Chiyako Koishikawa, Takuji Kijima, Yuu Matsuura',\n",
       " 'Chiyako Koishikawa, Tsutomu Rokutanda, Youji Matsuura',\n",
       " 'Chiyako Koishikawa, Tsutomu Rokutanda, Yuu Matsuura',\n",
       " 'Chiyako Koishikawa, Youji Matsuura, Yuu Matsuura',\n",
       " 'Ginta Suou, Jin Koishikawa, Meiko Akizuki',\n",
       " 'Ginta Suou, Jin Koishikawa, Miki Koishikawa',\n",
       " 'Ginta Suou, Jin Koishikawa, Namura',\n",
       " 'Ginta Suou, Jin Koishikawa, Rumi Matsuura',\n",
       " 'Ginta Suou, Jin Koishikawa, Ryoko Momoi',\n",
       " 'Ginta Suou, Jin Koishikawa, Satoshi Miwa',\n",
       " 'Ginta Suou, Jin Koishikawa, Takuji Kijima',\n",
       " 'Ginta Suou, Jin Koishikawa, Tsutomu Rokutanda',\n",
       " 'Ginta Suou, Jin Koishikawa, Youji Matsuura',\n",
       " 'Ginta Suou, Jin Koishikawa, Yuu Matsuura',\n",
       " 'Ginta Suou, Meiko Akizuki, Miki Koishikawa',\n",
       " 'Ginta Suou, Meiko Akizuki, Namura',\n",
       " 'Ginta Suou, Meiko Akizuki, Rumi Matsuura',\n",
       " 'Ginta Suou, Meiko Akizuki, Ryoko Momoi',\n",
       " 'Ginta Suou, Meiko Akizuki, Satoshi Miwa',\n",
       " 'Ginta Suou, Meiko Akizuki, Takuji Kijima',\n",
       " 'Ginta Suou, Meiko Akizuki, Tsutomu Rokutanda',\n",
       " 'Ginta Suou, Meiko Akizuki, Youji Matsuura',\n",
       " 'Ginta Suou, Meiko Akizuki, Yuu Matsuura',\n",
       " 'Ginta Suou, Miki Koishikawa, Namura',\n",
       " 'Ginta Suou, Miki Koishikawa, Rumi Matsuura',\n",
       " 'Ginta Suou, Miki Koishikawa, Ryoko Momoi',\n",
       " 'Ginta Suou, Miki Koishikawa, Satoshi Miwa',\n",
       " 'Ginta Suou, Miki Koishikawa, Takuji Kijima',\n",
       " 'Ginta Suou, Miki Koishikawa, Tsutomu Rokutanda',\n",
       " 'Ginta Suou, Miki Koishikawa, Youji Matsuura',\n",
       " 'Ginta Suou, Miki Koishikawa, Yuu Matsuura',\n",
       " 'Ginta Suou, Namura, Rumi Matsuura',\n",
       " 'Ginta Suou, Namura, Ryoko Momoi',\n",
       " 'Ginta Suou, Namura, Satoshi Miwa',\n",
       " 'Ginta Suou, Namura, Takuji Kijima',\n",
       " 'Ginta Suou, Namura, Tsutomu Rokutanda',\n",
       " 'Ginta Suou, Namura, Youji Matsuura',\n",
       " 'Ginta Suou, Namura, Yuu Matsuura',\n",
       " 'Ginta Suou, Rumi Matsuura, Ryoko Momoi',\n",
       " 'Ginta Suou, Rumi Matsuura, Satoshi Miwa',\n",
       " 'Ginta Suou, Rumi Matsuura, Takuji Kijima',\n",
       " 'Ginta Suou, Rumi Matsuura, Tsutomu Rokutanda',\n",
       " 'Ginta Suou, Rumi Matsuura, Youji Matsuura',\n",
       " 'Ginta Suou, Rumi Matsuura, Yuu Matsuura',\n",
       " 'Ginta Suou, Ryoko Momoi, Satoshi Miwa',\n",
       " 'Ginta Suou, Ryoko Momoi, Takuji Kijima',\n",
       " 'Ginta Suou, Ryoko Momoi, Tsutomu Rokutanda',\n",
       " 'Ginta Suou, Ryoko Momoi, Youji Matsuura',\n",
       " 'Ginta Suou, Ryoko Momoi, Yuu Matsuura',\n",
       " 'Ginta Suou, Satoshi Miwa, Takuji Kijima',\n",
       " 'Ginta Suou, Satoshi Miwa, Tsutomu Rokutanda',\n",
       " 'Ginta Suou, Satoshi Miwa, Youji Matsuura',\n",
       " 'Ginta Suou, Satoshi Miwa, Yuu Matsuura',\n",
       " 'Ginta Suou, Takuji Kijima, Tsutomu Rokutanda',\n",
       " 'Ginta Suou, Takuji Kijima, Youji Matsuura',\n",
       " 'Ginta Suou, Takuji Kijima, Yuu Matsuura',\n",
       " 'Ginta Suou, Tsutomu Rokutanda, Youji Matsuura',\n",
       " 'Ginta Suou, Tsutomu Rokutanda, Yuu Matsuura',\n",
       " 'Ginta Suou, Youji Matsuura, Yuu Matsuura',\n",
       " 'Jin Koishikawa, Meiko Akizuki, Miki Koishikawa',\n",
       " 'Jin Koishikawa, Meiko Akizuki, Namura',\n",
       " 'Jin Koishikawa, Meiko Akizuki, Rumi Matsuura',\n",
       " 'Jin Koishikawa, Meiko Akizuki, Ryoko Momoi',\n",
       " 'Jin Koishikawa, Meiko Akizuki, Satoshi Miwa',\n",
       " 'Jin Koishikawa, Meiko Akizuki, Takuji Kijima',\n",
       " 'Jin Koishikawa, Meiko Akizuki, Tsutomu Rokutanda',\n",
       " 'Jin Koishikawa, Meiko Akizuki, Youji Matsuura',\n",
       " 'Jin Koishikawa, Meiko Akizuki, Yuu Matsuura',\n",
       " 'Jin Koishikawa, Miki Koishikawa, Namura',\n",
       " 'Jin Koishikawa, Miki Koishikawa, Rumi Matsuura',\n",
       " 'Jin Koishikawa, Miki Koishikawa, Ryoko Momoi',\n",
       " 'Jin Koishikawa, Miki Koishikawa, Satoshi Miwa',\n",
       " 'Jin Koishikawa, Miki Koishikawa, Takuji Kijima',\n",
       " 'Jin Koishikawa, Miki Koishikawa, Tsutomu Rokutanda',\n",
       " 'Jin Koishikawa, Miki Koishikawa, Youji Matsuura',\n",
       " 'Jin Koishikawa, Miki Koishikawa, Yuu Matsuura',\n",
       " 'Jin Koishikawa, Namura, Rumi Matsuura',\n",
       " 'Jin Koishikawa, Namura, Ryoko Momoi',\n",
       " 'Jin Koishikawa, Namura, Satoshi Miwa',\n",
       " 'Jin Koishikawa, Namura, Takuji Kijima',\n",
       " 'Jin Koishikawa, Namura, Tsutomu Rokutanda',\n",
       " 'Jin Koishikawa, Namura, Youji Matsuura',\n",
       " 'Jin Koishikawa, Namura, Yuu Matsuura',\n",
       " 'Jin Koishikawa, Rumi Matsuura, Ryoko Momoi',\n",
       " 'Jin Koishikawa, Rumi Matsuura, Satoshi Miwa',\n",
       " 'Jin Koishikawa, Rumi Matsuura, Takuji Kijima',\n",
       " 'Jin Koishikawa, Rumi Matsuura, Tsutomu Rokutanda',\n",
       " 'Jin Koishikawa, Rumi Matsuura, Youji Matsuura',\n",
       " 'Jin Koishikawa, Rumi Matsuura, Yuu Matsuura',\n",
       " 'Jin Koishikawa, Ryoko Momoi, Satoshi Miwa',\n",
       " 'Jin Koishikawa, Ryoko Momoi, Takuji Kijima',\n",
       " 'Jin Koishikawa, Ryoko Momoi, Tsutomu Rokutanda',\n",
       " 'Jin Koishikawa, Ryoko Momoi, Youji Matsuura',\n",
       " 'Jin Koishikawa, Ryoko Momoi, Yuu Matsuura',\n",
       " 'Jin Koishikawa, Satoshi Miwa, Takuji Kijima',\n",
       " 'Jin Koishikawa, Satoshi Miwa, Tsutomu Rokutanda',\n",
       " 'Jin Koishikawa, Satoshi Miwa, Youji Matsuura',\n",
       " 'Jin Koishikawa, Satoshi Miwa, Yuu Matsuura',\n",
       " 'Jin Koishikawa, Takuji Kijima, Tsutomu Rokutanda',\n",
       " 'Jin Koishikawa, Takuji Kijima, Youji Matsuura',\n",
       " 'Jin Koishikawa, Takuji Kijima, Yuu Matsuura',\n",
       " 'Jin Koishikawa, Tsutomu Rokutanda, Youji Matsuura',\n",
       " 'Jin Koishikawa, Tsutomu Rokutanda, Yuu Matsuura',\n",
       " 'Jin Koishikawa, Youji Matsuura, Yuu Matsuura',\n",
       " 'Meiko Akizuki, Miki Koishikawa, Namura',\n",
       " 'Meiko Akizuki, Miki Koishikawa, Rumi Matsuura',\n",
       " 'Meiko Akizuki, Miki Koishikawa, Ryoko Momoi',\n",
       " 'Meiko Akizuki, Miki Koishikawa, Satoshi Miwa',\n",
       " 'Meiko Akizuki, Miki Koishikawa, Takuji Kijima',\n",
       " 'Meiko Akizuki, Miki Koishikawa, Tsutomu Rokutanda',\n",
       " 'Meiko Akizuki, Miki Koishikawa, Youji Matsuura',\n",
       " 'Meiko Akizuki, Miki Koishikawa, Yuu Matsuura',\n",
       " 'Meiko Akizuki, Namura, Rumi Matsuura',\n",
       " 'Meiko Akizuki, Namura, Ryoko Momoi',\n",
       " 'Meiko Akizuki, Namura, Satoshi Miwa',\n",
       " 'Meiko Akizuki, Namura, Takuji Kijima',\n",
       " 'Meiko Akizuki, Namura, Tsutomu Rokutanda',\n",
       " 'Meiko Akizuki, Namura, Youji Matsuura',\n",
       " 'Meiko Akizuki, Namura, Yuu Matsuura',\n",
       " 'Meiko Akizuki, Rumi Matsuura, Ryoko Momoi',\n",
       " 'Meiko Akizuki, Rumi Matsuura, Satoshi Miwa',\n",
       " 'Meiko Akizuki, Rumi Matsuura, Takuji Kijima',\n",
       " 'Meiko Akizuki, Rumi Matsuura, Tsutomu Rokutanda',\n",
       " 'Meiko Akizuki, Rumi Matsuura, Youji Matsuura',\n",
       " 'Meiko Akizuki, Rumi Matsuura, Yuu Matsuura',\n",
       " 'Meiko Akizuki, Ryoko Momoi, Satoshi Miwa',\n",
       " 'Meiko Akizuki, Ryoko Momoi, Takuji Kijima',\n",
       " 'Meiko Akizuki, Ryoko Momoi, Tsutomu Rokutanda',\n",
       " 'Meiko Akizuki, Ryoko Momoi, Youji Matsuura',\n",
       " 'Meiko Akizuki, Ryoko Momoi, Yuu Matsuura',\n",
       " 'Meiko Akizuki, Satoshi Miwa, Takuji Kijima',\n",
       " 'Meiko Akizuki, Satoshi Miwa, Tsutomu Rokutanda',\n",
       " 'Meiko Akizuki, Satoshi Miwa, Youji Matsuura',\n",
       " 'Meiko Akizuki, Satoshi Miwa, Yuu Matsuura',\n",
       " 'Meiko Akizuki, Takuji Kijima, Tsutomu Rokutanda',\n",
       " 'Meiko Akizuki, Takuji Kijima, Youji Matsuura',\n",
       " 'Meiko Akizuki, Takuji Kijima, Yuu Matsuura',\n",
       " 'Meiko Akizuki, Tsutomu Rokutanda, Youji Matsuura',\n",
       " 'Meiko Akizuki, Tsutomu Rokutanda, Yuu Matsuura',\n",
       " 'Meiko Akizuki, Youji Matsuura, Yuu Matsuura',\n",
       " 'Miki Koishikawa, Namura, Rumi Matsuura',\n",
       " 'Miki Koishikawa, Namura, Ryoko Momoi',\n",
       " 'Miki Koishikawa, Namura, Satoshi Miwa',\n",
       " 'Miki Koishikawa, Namura, Takuji Kijima',\n",
       " 'Miki Koishikawa, Namura, Tsutomu Rokutanda',\n",
       " 'Miki Koishikawa, Namura, Youji Matsuura',\n",
       " 'Miki Koishikawa, Namura, Yuu Matsuura',\n",
       " 'Miki Koishikawa, Rumi Matsuura, Ryoko Momoi',\n",
       " 'Miki Koishikawa, Rumi Matsuura, Satoshi Miwa',\n",
       " 'Miki Koishikawa, Rumi Matsuura, Takuji Kijima',\n",
       " 'Miki Koishikawa, Rumi Matsuura, Tsutomu Rokutanda',\n",
       " 'Miki Koishikawa, Rumi Matsuura, Youji Matsuura',\n",
       " 'Miki Koishikawa, Rumi Matsuura, Yuu Matsuura',\n",
       " 'Miki Koishikawa, Ryoko Momoi, Satoshi Miwa',\n",
       " 'Miki Koishikawa, Ryoko Momoi, Takuji Kijima',\n",
       " 'Miki Koishikawa, Ryoko Momoi, Tsutomu Rokutanda',\n",
       " 'Miki Koishikawa, Ryoko Momoi, Youji Matsuura',\n",
       " 'Miki Koishikawa, Ryoko Momoi, Yuu Matsuura',\n",
       " 'Miki Koishikawa, Satoshi Miwa, Takuji Kijima',\n",
       " 'Miki Koishikawa, Satoshi Miwa, Tsutomu Rokutanda',\n",
       " 'Miki Koishikawa, Satoshi Miwa, Youji Matsuura',\n",
       " 'Miki Koishikawa, Satoshi Miwa, Yuu Matsuura',\n",
       " 'Miki Koishikawa, Takuji Kijima, Tsutomu Rokutanda',\n",
       " 'Miki Koishikawa, Takuji Kijima, Youji Matsuura',\n",
       " 'Miki Koishikawa, Takuji Kijima, Yuu Matsuura',\n",
       " 'Miki Koishikawa, Tsutomu Rokutanda, Youji Matsuura',\n",
       " 'Miki Koishikawa, Tsutomu Rokutanda, Yuu Matsuura',\n",
       " 'Miki Koishikawa, Youji Matsuura, Yuu Matsuura',\n",
       " 'Namura, Rumi Matsuura, Ryoko Momoi',\n",
       " 'Namura, Rumi Matsuura, Satoshi Miwa',\n",
       " 'Namura, Rumi Matsuura, Takuji Kijima',\n",
       " 'Namura, Rumi Matsuura, Tsutomu Rokutanda',\n",
       " 'Namura, Rumi Matsuura, Youji Matsuura',\n",
       " 'Namura, Rumi Matsuura, Yuu Matsuura',\n",
       " 'Namura, Ryoko Momoi, Satoshi Miwa',\n",
       " 'Namura, Ryoko Momoi, Takuji Kijima',\n",
       " 'Namura, Ryoko Momoi, Tsutomu Rokutanda',\n",
       " 'Namura, Ryoko Momoi, Youji Matsuura',\n",
       " 'Namura, Ryoko Momoi, Yuu Matsuura',\n",
       " 'Namura, Satoshi Miwa, Takuji Kijima',\n",
       " 'Namura, Satoshi Miwa, Tsutomu Rokutanda',\n",
       " 'Namura, Satoshi Miwa, Youji Matsuura',\n",
       " 'Namura, Satoshi Miwa, Yuu Matsuura',\n",
       " 'Namura, Takuji Kijima, Tsutomu Rokutanda',\n",
       " 'Namura, Takuji Kijima, Youji Matsuura',\n",
       " 'Namura, Takuji Kijima, Yuu Matsuura',\n",
       " 'Namura, Tsutomu Rokutanda, Youji Matsuura',\n",
       " 'Namura, Tsutomu Rokutanda, Yuu Matsuura',\n",
       " 'Namura, Youji Matsuura, Yuu Matsuura',\n",
       " 'Rumi Matsuura, Ryoko Momoi, Satoshi Miwa',\n",
       " 'Rumi Matsuura, Ryoko Momoi, Takuji Kijima',\n",
       " 'Rumi Matsuura, Ryoko Momoi, Tsutomu Rokutanda',\n",
       " 'Rumi Matsuura, Ryoko Momoi, Youji Matsuura',\n",
       " 'Rumi Matsuura, Ryoko Momoi, Yuu Matsuura',\n",
       " 'Rumi Matsuura, Satoshi Miwa, Takuji Kijima',\n",
       " 'Rumi Matsuura, Satoshi Miwa, Tsutomu Rokutanda',\n",
       " 'Rumi Matsuura, Satoshi Miwa, Youji Matsuura',\n",
       " 'Rumi Matsuura, Satoshi Miwa, Yuu Matsuura',\n",
       " 'Rumi Matsuura, Takuji Kijima, Tsutomu Rokutanda',\n",
       " 'Rumi Matsuura, Takuji Kijima, Youji Matsuura',\n",
       " 'Rumi Matsuura, Takuji Kijima, Yuu Matsuura',\n",
       " 'Rumi Matsuura, Tsutomu Rokutanda, Youji Matsuura',\n",
       " 'Rumi Matsuura, Tsutomu Rokutanda, Yuu Matsuura',\n",
       " 'Rumi Matsuura, Youji Matsuura, Yuu Matsuura',\n",
       " 'Ryoko Momoi, Satoshi Miwa, Takuji Kijima',\n",
       " 'Ryoko Momoi, Satoshi Miwa, Tsutomu Rokutanda',\n",
       " 'Ryoko Momoi, Satoshi Miwa, Youji Matsuura',\n",
       " 'Ryoko Momoi, Satoshi Miwa, Yuu Matsuura',\n",
       " 'Ryoko Momoi, Takuji Kijima, Tsutomu Rokutanda',\n",
       " 'Ryoko Momoi, Takuji Kijima, Youji Matsuura',\n",
       " 'Ryoko Momoi, Takuji Kijima, Yuu Matsuura',\n",
       " 'Ryoko Momoi, Tsutomu Rokutanda, Youji Matsuura',\n",
       " 'Ryoko Momoi, Tsutomu Rokutanda, Yuu Matsuura',\n",
       " 'Ryoko Momoi, Youji Matsuura, Yuu Matsuura',\n",
       " 'Satoshi Miwa, Takuji Kijima, Tsutomu Rokutanda',\n",
       " 'Satoshi Miwa, Takuji Kijima, Youji Matsuura',\n",
       " 'Satoshi Miwa, Takuji Kijima, Yuu Matsuura',\n",
       " 'Satoshi Miwa, Tsutomu Rokutanda, Youji Matsuura',\n",
       " 'Satoshi Miwa, Tsutomu Rokutanda, Yuu Matsuura',\n",
       " 'Satoshi Miwa, Youji Matsuura, Yuu Matsuura',\n",
       " 'Takuji Kijima, Tsutomu Rokutanda, Youji Matsuura',\n",
       " 'Takuji Kijima, Tsutomu Rokutanda, Yuu Matsuura',\n",
       " 'Takuji Kijima, Youji Matsuura, Yuu Matsuura',\n",
       " 'Tsutomu Rokutanda, Youji Matsuura, Yuu Matsuura']"
      ]
     },
     "execution_count": 23,
     "metadata": {},
     "output_type": "execute_result"
    }
   ],
   "source": [
    "relations.extend([x+', '+y+', '+z for x in sorted_chars for y in sorted_chars for z in sorted_chars if x<y and y<z])\n",
    "relations"
   ]
  },
  {
   "cell_type": "code",
   "execution_count": 24,
   "id": "0a287e48",
   "metadata": {},
   "outputs": [
    {
     "data": {
      "text/plain": [
       "{'Arimi Suzuki, Ginta Suou': 11,\n",
       " 'Arimi Suzuki, Miki Koishikawa': 12,\n",
       " 'Arimi Suzuki, Yuu Matsuura': 5,\n",
       " 'Chiyako Koishikawa, Miki Koishikawa': 2,\n",
       " 'Chiyako Koishikawa, Rumi Matsuura': 2,\n",
       " 'Ginta Suou, Meiko Akizuki': 5,\n",
       " 'Ginta Suou, Miki Koishikawa': 12,\n",
       " 'Ginta Suou, Namura': 1,\n",
       " 'Ginta Suou, Tsutomu Rokutanda': 4,\n",
       " 'Ginta Suou, Yuu Matsuura': 7,\n",
       " 'Meiko Akizuki, Miki Koishikawa': 17,\n",
       " 'Meiko Akizuki, Satoshi Miwa': 3,\n",
       " 'Meiko Akizuki, Yuu Matsuura': 3,\n",
       " 'Miki Koishikawa, Namura': 3,\n",
       " 'Miki Koishikawa, Rumi Matsuura': 2,\n",
       " 'Miki Koishikawa, Takuji Kijima': 2,\n",
       " 'Miki Koishikawa, Yuu Matsuura': 48,\n",
       " 'Namura, Ryoko Momoi': 4,\n",
       " 'Namura, Yuu Matsuura': 1,\n",
       " 'Satoshi Miwa, Yuu Matsuura': 1,\n",
       " 'Takuji Kijima, Tsutomu Rokutanda': 1,\n",
       " 'Arimi Suzuki, Ginta Suou, Miki Koishikawa': 3,\n",
       " 'Arimi Suzuki, Ginta Suou, Yuu Matsuura': 1,\n",
       " 'Arimi Suzuki, Miki Koishikawa, Yuu Matsuura': 3,\n",
       " 'Chiyako Koishikawa, Jin Koishikawa, Rumi Matsuura': 1,\n",
       " 'Chiyako Koishikawa, Miki Koishikawa, Yuu Matsuura': 1,\n",
       " 'Ginta Suou, Meiko Akizuki, Miki Koishikawa': 3,\n",
       " 'Ginta Suou, Meiko Akizuki, Yuu Matsuura': 1,\n",
       " 'Ginta Suou, Miki Koishikawa, Namura': 1,\n",
       " 'Ginta Suou, Miki Koishikawa, Tsutomu Rokutanda': 1,\n",
       " 'Ginta Suou, Miki Koishikawa, Yuu Matsuura': 1,\n",
       " 'Ginta Suou, Tsutomu Rokutanda, Yuu Matsuura': 2,\n",
       " 'Jin Koishikawa, Miki Koishikawa, Rumi Matsuura': 2,\n",
       " 'Meiko Akizuki, Miki Koishikawa, Yuu Matsuura': 4,\n",
       " 'Miki Koishikawa, Namura, Yuu Matsuura': 1,\n",
       " 'Miki Koishikawa, Takuji Kijima, Yuu Matsuura': 3,\n",
       " 'Namura, Ryoko Momoi, Takuji Kijima': 1}"
      ]
     },
     "execution_count": 24,
     "metadata": {},
     "output_type": "execute_result"
    }
   ],
   "source": [
    "{x:sorted_dict[x]for x in relations if x in sorted_dict.keys()}"
   ]
  },
  {
   "cell_type": "code",
   "execution_count": 25,
   "id": "46d8bf5e",
   "metadata": {},
   "outputs": [
    {
     "data": {
      "text/plain": [
       "{'Miki Koishikawa, Yuu Matsuura': 48,\n",
       " 'Meiko Akizuki, Miki Koishikawa': 17,\n",
       " 'Arimi Suzuki, Miki Koishikawa': 12,\n",
       " 'Ginta Suou, Miki Koishikawa': 12,\n",
       " 'Arimi Suzuki, Ginta Suou': 11,\n",
       " 'Ginta Suou, Yuu Matsuura': 7,\n",
       " 'Arimi Suzuki, Yuu Matsuura': 5,\n",
       " 'Ginta Suou, Meiko Akizuki': 5,\n",
       " 'Ginta Suou, Tsutomu Rokutanda': 4,\n",
       " 'Namura, Ryoko Momoi': 4,\n",
       " 'Meiko Akizuki, Miki Koishikawa, Yuu Matsuura': 4,\n",
       " 'Meiko Akizuki, Satoshi Miwa': 3,\n",
       " 'Meiko Akizuki, Yuu Matsuura': 3,\n",
       " 'Miki Koishikawa, Namura': 3,\n",
       " 'Arimi Suzuki, Ginta Suou, Miki Koishikawa': 3,\n",
       " 'Arimi Suzuki, Miki Koishikawa, Yuu Matsuura': 3,\n",
       " 'Ginta Suou, Meiko Akizuki, Miki Koishikawa': 3,\n",
       " 'Miki Koishikawa, Takuji Kijima, Yuu Matsuura': 3,\n",
       " 'Chiyako Koishikawa, Miki Koishikawa': 2,\n",
       " 'Chiyako Koishikawa, Rumi Matsuura': 2,\n",
       " 'Miki Koishikawa, Rumi Matsuura': 2,\n",
       " 'Miki Koishikawa, Takuji Kijima': 2,\n",
       " 'Ginta Suou, Tsutomu Rokutanda, Yuu Matsuura': 2,\n",
       " 'Jin Koishikawa, Miki Koishikawa, Rumi Matsuura': 2,\n",
       " 'Ginta Suou, Namura': 1,\n",
       " 'Namura, Yuu Matsuura': 1,\n",
       " 'Satoshi Miwa, Yuu Matsuura': 1,\n",
       " 'Takuji Kijima, Tsutomu Rokutanda': 1,\n",
       " 'Arimi Suzuki, Ginta Suou, Yuu Matsuura': 1,\n",
       " 'Chiyako Koishikawa, Jin Koishikawa, Rumi Matsuura': 1,\n",
       " 'Chiyako Koishikawa, Miki Koishikawa, Yuu Matsuura': 1,\n",
       " 'Ginta Suou, Meiko Akizuki, Yuu Matsuura': 1,\n",
       " 'Ginta Suou, Miki Koishikawa, Namura': 1,\n",
       " 'Ginta Suou, Miki Koishikawa, Tsutomu Rokutanda': 1,\n",
       " 'Ginta Suou, Miki Koishikawa, Yuu Matsuura': 1,\n",
       " 'Miki Koishikawa, Namura, Yuu Matsuura': 1,\n",
       " 'Namura, Ryoko Momoi, Takuji Kijima': 1}"
      ]
     },
     "execution_count": 25,
     "metadata": {},
     "output_type": "execute_result"
    }
   ],
   "source": [
    "final_dict  = {k: v for k, v in sorted({x:sorted_dict[x]for x in relations if x in sorted_dict.keys()}.items(), key=lambda item: item[1],reverse = True)}\n",
    "final_dict"
   ]
  },
  {
   "cell_type": "code",
   "execution_count": 26,
   "id": "cc3a4c44",
   "metadata": {},
   "outputs": [],
   "source": [
    "x = final_dict.copy()\n",
    "for key in x.keys():\n",
    "    keys = key.split(', ')\n",
    "    if len(keys)==3:\n",
    "        if keys[0]+', '+keys[1] in x.keys():\n",
    "            final_dict[keys[0]+', '+keys[1]] +=1\n",
    "        else:\n",
    "            final_dict[keys[0]+', '+keys[1]]=1\n",
    "            \n",
    "        if keys[0]+', '+keys[2] in x.keys():\n",
    "            final_dict[keys[0]+', '+keys[2]] +=1\n",
    "        else:\n",
    "            final_dict[keys[0]+', '+keys[2]]=1\n",
    "        \n",
    "        if keys[1]+', '+keys[2] in x.keys():\n",
    "            final_dict[keys[1]+', '+keys[2]] +=1\n",
    "        else:\n",
    "            final_dict[keys[1]+', '+keys[2]]=1"
   ]
  },
  {
   "cell_type": "code",
   "execution_count": 27,
   "id": "8035ba72",
   "metadata": {
    "scrolled": true
   },
   "outputs": [
    {
     "data": {
      "image/png": "[encoded data removed]",
      "text/plain": [
       "<Figure size 1800x1440 with 1 Axes>"
      ]
     },
     "metadata": {},
     "output_type": "display_data"
    }
   ],
   "source": [
    "\n",
    "import networkx as nx\n",
    "plt.figure(figsize=(25,20))\n",
    "G = nx.Graph()\n",
    "i=1\n",
    "list_d = final_dict.keys()\n",
    "for key in list_d:\n",
    "    if len(key.split(','))==2:\n",
    "        key1,key2 = key.split(',')\n",
    "        key1,key2 = key1.strip(),key2.strip()\n",
    "    #     print(key1,key2)\n",
    "        G.add_edge(key1.strip(), key2.strip(), weight=final_dict[key])\n",
    "        i+=1\n",
    "        \n",
    "        \n",
    "        \n",
    "options = {\"edgecolors\": \"tab:blue\", \"node_size\": 30000, \"alpha\": 0.75}\n",
    "\n",
    "elarge = [(u, v) for (u, v, d) in G.edges(data=True) if d['weight'] > 10]\n",
    "esmall = [(u, v) for (u, v, d) in G.edges(data=True) if d['weight'] <= 10]\n",
    "\n",
    "# positions for all nodes\n",
    "pos = nx.spring_layout(G) \n",
    "\n",
    "# nodes\n",
    "nx.draw_networkx_nodes(G, pos, node_color=range(13), **options)\n",
    "\n",
    "# edges\n",
    "nx.draw_networkx_edges(G, pos, edgelist=elarge, width=4, alpha=0.5, edge_color='blue')\n",
    "nx.draw_networkx_edges(G, pos, edgelist=esmall, width=4, alpha=0.5, edge_color='blue', style='dashed')\n",
    "\n",
    "all_weights=[]\n",
    "for (node1,node2,data) in G.edges(data=True):\n",
    "    all_weights.append(data['weight'])\n",
    "unique_weights = list(set(all_weights))\n",
    "for weight in unique_weights:\n",
    "        #4 d. Form a filtered list with just the weight you want to draw\n",
    "    weighted_edges = [(node1,node2) for (node1,node2,edge_attr) in G.edges(data=True) if edge_attr['weight']==weight]\n",
    "    width = weight*len(sorted_chars)*4.0/sum(all_weights)\n",
    "    nx.draw_networkx_edges(G,pos,edgelist=weighted_edges,width=width)\n",
    "\n",
    "\n",
    "# labels\n",
    "nx.draw_networkx_labels(G, pos, font_size=18, font_family='verdana',font_weight='bold',font_color='white')\n",
    "\n",
    "ax = plt.gca()\n",
    "ax.margins(0.001)\n",
    "\n",
    "plt.tight_layout()\n",
    "plt.axis('off')\n",
    "\n",
    "plt.show()\n"
   ]
  },
  {
   "cell_type": "code",
   "execution_count": null,
   "id": "84a826e8",
   "metadata": {},
   "outputs": [],
   "source": []
  }
 ],
 "metadata": {
  "kernelspec": {
   "display_name": "Python 3 (ipykernel)",
   "language": "python",
   "name": "python3"
  },
  "language_info": {
   "codemirror_mode": {
    "name": "ipython",
    "version": 3
   },
   "file_extension": ".py",
   "mimetype": "text/x-python",
   "name": "python",
   "nbconvert_exporter": "python",
   "pygments_lexer": "ipython3",
   "version": "3.9.12"
  }
 },
 "nbformat": 4,
 "nbformat_minor": 5
}
